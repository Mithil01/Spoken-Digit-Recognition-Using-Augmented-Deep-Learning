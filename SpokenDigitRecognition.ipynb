{
  "nbformat": 4,
  "nbformat_minor": 0,
  "metadata": {
    "colab": {
      "provenance": [],
      "gpuType": "T4",
      "machine_shape": "hm",
      "include_colab_link": true
    },
    "kernelspec": {
      "display_name": "Python 3",
      "name": "python3"
    },
    "language_info": {
      "codemirror_mode": {
        "name": "ipython",
        "version": 3
      },
      "file_extension": ".py",
      "mimetype": "text/x-python",
      "name": "python",
      "nbconvert_exporter": "python",
      "pygments_lexer": "ipython3",
      "version": "3.6.3"
    },
    "accelerator": "GPU"
  },
  "cells": [
    {
      "cell_type": "markdown",
      "metadata": {
        "id": "view-in-github",
        "colab_type": "text"
      },
      "source": [
        "<a href=\"https://colab.research.google.com/github/Mithil01/Spoken-Digit-Recognition-Using-Augmented-Deep-Learning/blob/main/SpokenDigitRecognition.ipynb\" target=\"_parent\"><img src=\"https://colab.research.google.com/assets/colab-badge.svg\" alt=\"Open In Colab\"/></a>"
      ]
    },
    {
      "cell_type": "markdown",
      "metadata": {
        "id": "ZwoTWIysaNmc"
      },
      "source": [
        "# <font color='red'> Spoken Digit Recognition</font>"
      ]
    },
    {
      "cell_type": "code",
      "metadata": {
        "id": "_qGuPcj-aNmh"
      },
      "source": [
        "import numpy as np\n",
        "import pandas as pd\n",
        "import matplotlib.pyplot as plt\n",
        "import librosa\n",
        "import os\n",
        "from sklearn.model_selection import train_test_split\n",
        "import tensorflow as tf\n",
        "from tensorflow.keras.preprocessing.sequence import pad_sequences\n",
        "from tensorflow.keras.layers import Input, LSTM, Dense\n",
        "from tensorflow.keras.models import Model\n",
        "from sklearn.metrics import f1_score\n",
        "from tensorflow.keras.optimizers import Adam\n",
        "from tensorflow.keras.callbacks import EarlyStopping,Callback,ModelCheckpoint,TensorBoard\n",
        "import datetime\n",
        "%load_ext tensorboard\n",
        "##if you need any imports you can do that here."
      ],
      "execution_count": 2,
      "outputs": []
    },
    {
      "cell_type": "markdown",
      "metadata": {
        "id": "PdhFzGK1aNmo"
      },
      "source": [
        "Unzip recordings.zip."
      ]
    },
    {
      "cell_type": "code",
      "source": [
        "!unzip recordings.zip"
      ],
      "metadata": {
        "colab": {
          "base_uri": "https://localhost:8080/"
        },
        "id": "ecdC7EpKvpH3",
        "outputId": "31f3a0fe-41e4-4337-8225-4bb05f498efa"
      },
      "execution_count": 3,
      "outputs": [
        {
          "output_type": "stream",
          "name": "stdout",
          "text": [
            "Archive:  recordings.zip\n",
            "   creating: recordings/\n",
            "  inflating: recordings/0_jackson_0.wav  \n",
            "  inflating: recordings/0_jackson_1.wav  \n",
            "  inflating: recordings/0_jackson_10.wav  \n",
            "  inflating: recordings/0_jackson_11.wav  \n",
            "  inflating: recordings/0_jackson_12.wav  \n",
            "  inflating: recordings/0_jackson_13.wav  \n",
            "  inflating: recordings/0_jackson_14.wav  \n",
            "  inflating: recordings/0_jackson_15.wav  \n",
            "  inflating: recordings/0_jackson_16.wav  \n",
            "  inflating: recordings/0_jackson_17.wav  \n",
            "  inflating: recordings/0_jackson_18.wav  \n",
            "  inflating: recordings/0_jackson_19.wav  \n",
            "  inflating: recordings/0_jackson_2.wav  \n",
            "  inflating: recordings/0_jackson_20.wav  \n",
            "  inflating: recordings/0_jackson_21.wav  \n",
            "  inflating: recordings/0_jackson_22.wav  \n",
            "  inflating: recordings/0_jackson_23.wav  \n",
            "  inflating: recordings/0_jackson_24.wav  \n",
            "  inflating: recordings/0_jackson_25.wav  \n",
            "  inflating: recordings/0_jackson_26.wav  \n",
            "  inflating: recordings/0_jackson_27.wav  \n",
            "  inflating: recordings/0_jackson_28.wav  \n",
            "  inflating: recordings/0_jackson_29.wav  \n",
            "  inflating: recordings/0_jackson_3.wav  \n",
            "  inflating: recordings/0_jackson_30.wav  \n",
            "  inflating: recordings/0_jackson_31.wav  \n",
            "  inflating: recordings/0_jackson_32.wav  \n",
            "  inflating: recordings/0_jackson_33.wav  \n",
            "  inflating: recordings/0_jackson_34.wav  \n",
            "  inflating: recordings/0_jackson_35.wav  \n",
            "  inflating: recordings/0_jackson_36.wav  \n",
            "  inflating: recordings/0_jackson_37.wav  \n",
            "  inflating: recordings/0_jackson_38.wav  \n",
            "  inflating: recordings/0_jackson_39.wav  \n",
            "  inflating: recordings/0_jackson_4.wav  \n",
            "  inflating: recordings/0_jackson_40.wav  \n",
            "  inflating: recordings/0_jackson_41.wav  \n",
            "  inflating: recordings/0_jackson_42.wav  \n",
            "  inflating: recordings/0_jackson_43.wav  \n",
            "  inflating: recordings/0_jackson_44.wav  \n",
            "  inflating: recordings/0_jackson_45.wav  \n",
            "  inflating: recordings/0_jackson_46.wav  \n",
            "  inflating: recordings/0_jackson_47.wav  \n",
            "  inflating: recordings/0_jackson_48.wav  \n",
            "  inflating: recordings/0_jackson_49.wav  \n",
            "  inflating: recordings/0_jackson_5.wav  \n",
            "  inflating: recordings/0_jackson_6.wav  \n",
            "  inflating: recordings/0_jackson_7.wav  \n",
            "  inflating: recordings/0_jackson_8.wav  \n",
            "  inflating: recordings/0_jackson_9.wav  \n",
            "  inflating: recordings/0_nicolas_0.wav  \n",
            "  inflating: recordings/0_nicolas_1.wav  \n",
            "  inflating: recordings/0_nicolas_10.wav  \n",
            "  inflating: recordings/0_nicolas_11.wav  \n",
            "  inflating: recordings/0_nicolas_12.wav  \n",
            "  inflating: recordings/0_nicolas_13.wav  \n",
            "  inflating: recordings/0_nicolas_14.wav  \n",
            "  inflating: recordings/0_nicolas_15.wav  \n",
            "  inflating: recordings/0_nicolas_16.wav  \n",
            "  inflating: recordings/0_nicolas_17.wav  \n",
            "  inflating: recordings/0_nicolas_18.wav  \n",
            "  inflating: recordings/0_nicolas_19.wav  \n",
            "  inflating: recordings/0_nicolas_2.wav  \n",
            "  inflating: recordings/0_nicolas_20.wav  \n",
            "  inflating: recordings/0_nicolas_21.wav  \n",
            "  inflating: recordings/0_nicolas_22.wav  \n",
            "  inflating: recordings/0_nicolas_23.wav  \n",
            "  inflating: recordings/0_nicolas_24.wav  \n",
            "  inflating: recordings/0_nicolas_25.wav  \n",
            "  inflating: recordings/0_nicolas_26.wav  \n",
            "  inflating: recordings/0_nicolas_27.wav  \n",
            "  inflating: recordings/0_nicolas_28.wav  \n",
            "  inflating: recordings/0_nicolas_29.wav  \n",
            "  inflating: recordings/0_nicolas_3.wav  \n",
            "  inflating: recordings/0_nicolas_30.wav  \n",
            "  inflating: recordings/0_nicolas_31.wav  \n",
            "  inflating: recordings/0_nicolas_32.wav  \n",
            "  inflating: recordings/0_nicolas_33.wav  \n",
            "  inflating: recordings/0_nicolas_34.wav  \n",
            "  inflating: recordings/0_nicolas_35.wav  \n",
            "  inflating: recordings/0_nicolas_36.wav  \n",
            "  inflating: recordings/0_nicolas_37.wav  \n",
            "  inflating: recordings/0_nicolas_38.wav  \n",
            "  inflating: recordings/0_nicolas_39.wav  \n",
            "  inflating: recordings/0_nicolas_4.wav  \n",
            "  inflating: recordings/0_nicolas_40.wav  \n",
            "  inflating: recordings/0_nicolas_41.wav  \n",
            "  inflating: recordings/0_nicolas_42.wav  \n",
            "  inflating: recordings/0_nicolas_43.wav  \n",
            "  inflating: recordings/0_nicolas_44.wav  \n",
            "  inflating: recordings/0_nicolas_45.wav  \n",
            "  inflating: recordings/0_nicolas_46.wav  \n",
            "  inflating: recordings/0_nicolas_47.wav  \n",
            "  inflating: recordings/0_nicolas_48.wav  \n",
            "  inflating: recordings/0_nicolas_49.wav  \n",
            "  inflating: recordings/0_nicolas_5.wav  \n",
            "  inflating: recordings/0_nicolas_6.wav  \n",
            "  inflating: recordings/0_nicolas_7.wav  \n",
            "  inflating: recordings/0_nicolas_8.wav  \n",
            "  inflating: recordings/0_nicolas_9.wav  \n",
            "  inflating: recordings/0_theo_0.wav  \n",
            "  inflating: recordings/0_theo_1.wav  \n",
            "  inflating: recordings/0_theo_10.wav  \n",
            "  inflating: recordings/0_theo_11.wav  \n",
            "  inflating: recordings/0_theo_12.wav  \n",
            "  inflating: recordings/0_theo_13.wav  \n",
            "  inflating: recordings/0_theo_14.wav  \n",
            "  inflating: recordings/0_theo_15.wav  \n",
            "  inflating: recordings/0_theo_16.wav  \n",
            "  inflating: recordings/0_theo_17.wav  \n",
            "  inflating: recordings/0_theo_18.wav  \n",
            "  inflating: recordings/0_theo_19.wav  \n",
            "  inflating: recordings/0_theo_2.wav  \n",
            "  inflating: recordings/0_theo_20.wav  \n",
            "  inflating: recordings/0_theo_21.wav  \n",
            "  inflating: recordings/0_theo_22.wav  \n",
            "  inflating: recordings/0_theo_23.wav  \n",
            "  inflating: recordings/0_theo_24.wav  \n",
            "  inflating: recordings/0_theo_25.wav  \n",
            "  inflating: recordings/0_theo_26.wav  \n",
            "  inflating: recordings/0_theo_27.wav  \n",
            "  inflating: recordings/0_theo_28.wav  \n",
            "  inflating: recordings/0_theo_29.wav  \n",
            "  inflating: recordings/0_theo_3.wav  \n",
            "  inflating: recordings/0_theo_30.wav  \n",
            "  inflating: recordings/0_theo_31.wav  \n",
            "  inflating: recordings/0_theo_32.wav  \n",
            "  inflating: recordings/0_theo_33.wav  \n",
            "  inflating: recordings/0_theo_34.wav  \n",
            "  inflating: recordings/0_theo_35.wav  \n",
            "  inflating: recordings/0_theo_36.wav  \n",
            "  inflating: recordings/0_theo_37.wav  \n",
            "  inflating: recordings/0_theo_38.wav  \n",
            "  inflating: recordings/0_theo_39.wav  \n",
            "  inflating: recordings/0_theo_4.wav  \n",
            "  inflating: recordings/0_theo_40.wav  \n",
            "  inflating: recordings/0_theo_41.wav  \n",
            "  inflating: recordings/0_theo_42.wav  \n",
            "  inflating: recordings/0_theo_43.wav  \n",
            "  inflating: recordings/0_theo_44.wav  \n",
            "  inflating: recordings/0_theo_45.wav  \n",
            "  inflating: recordings/0_theo_46.wav  \n",
            "  inflating: recordings/0_theo_47.wav  \n",
            "  inflating: recordings/0_theo_48.wav  \n",
            "  inflating: recordings/0_theo_49.wav  \n",
            "  inflating: recordings/0_theo_5.wav  \n",
            "  inflating: recordings/0_theo_6.wav  \n",
            "  inflating: recordings/0_theo_7.wav  \n",
            "  inflating: recordings/0_theo_8.wav  \n",
            "  inflating: recordings/0_theo_9.wav  \n",
            "  inflating: recordings/0_yweweler_0.wav  \n",
            "  inflating: recordings/0_yweweler_1.wav  \n",
            "  inflating: recordings/0_yweweler_10.wav  \n",
            "  inflating: recordings/0_yweweler_11.wav  \n",
            "  inflating: recordings/0_yweweler_12.wav  \n",
            "  inflating: recordings/0_yweweler_13.wav  \n",
            "  inflating: recordings/0_yweweler_14.wav  \n",
            "  inflating: recordings/0_yweweler_15.wav  \n",
            "  inflating: recordings/0_yweweler_16.wav  \n",
            "  inflating: recordings/0_yweweler_17.wav  \n",
            "  inflating: recordings/0_yweweler_18.wav  \n",
            "  inflating: recordings/0_yweweler_19.wav  \n",
            "  inflating: recordings/0_yweweler_2.wav  \n",
            "  inflating: recordings/0_yweweler_20.wav  \n",
            "  inflating: recordings/0_yweweler_21.wav  \n",
            "  inflating: recordings/0_yweweler_22.wav  \n",
            "  inflating: recordings/0_yweweler_23.wav  \n",
            "  inflating: recordings/0_yweweler_24.wav  \n",
            "  inflating: recordings/0_yweweler_25.wav  \n",
            "  inflating: recordings/0_yweweler_26.wav  \n",
            "  inflating: recordings/0_yweweler_27.wav  \n",
            "  inflating: recordings/0_yweweler_28.wav  \n",
            "  inflating: recordings/0_yweweler_29.wav  \n",
            "  inflating: recordings/0_yweweler_3.wav  \n",
            "  inflating: recordings/0_yweweler_30.wav  \n",
            "  inflating: recordings/0_yweweler_31.wav  \n",
            "  inflating: recordings/0_yweweler_32.wav  \n",
            "  inflating: recordings/0_yweweler_33.wav  \n",
            "  inflating: recordings/0_yweweler_34.wav  \n",
            "  inflating: recordings/0_yweweler_35.wav  \n",
            "  inflating: recordings/0_yweweler_36.wav  \n",
            "  inflating: recordings/0_yweweler_37.wav  \n",
            "  inflating: recordings/0_yweweler_38.wav  \n",
            "  inflating: recordings/0_yweweler_39.wav  \n",
            "  inflating: recordings/0_yweweler_4.wav  \n",
            "  inflating: recordings/0_yweweler_40.wav  \n",
            "  inflating: recordings/0_yweweler_41.wav  \n",
            "  inflating: recordings/0_yweweler_42.wav  \n",
            "  inflating: recordings/0_yweweler_43.wav  \n",
            "  inflating: recordings/0_yweweler_44.wav  \n",
            "  inflating: recordings/0_yweweler_45.wav  \n",
            "  inflating: recordings/0_yweweler_46.wav  \n",
            "  inflating: recordings/0_yweweler_47.wav  \n",
            "  inflating: recordings/0_yweweler_48.wav  \n",
            "  inflating: recordings/0_yweweler_49.wav  \n",
            "  inflating: recordings/0_yweweler_5.wav  \n",
            "  inflating: recordings/0_yweweler_6.wav  \n",
            "  inflating: recordings/0_yweweler_7.wav  \n",
            "  inflating: recordings/0_yweweler_8.wav  \n",
            "  inflating: recordings/0_yweweler_9.wav  \n",
            "  inflating: recordings/1_jackson_0.wav  \n",
            "  inflating: recordings/1_jackson_1.wav  \n",
            "  inflating: recordings/1_jackson_10.wav  \n",
            "  inflating: recordings/1_jackson_11.wav  \n",
            "  inflating: recordings/1_jackson_12.wav  \n",
            "  inflating: recordings/1_jackson_13.wav  \n",
            "  inflating: recordings/1_jackson_14.wav  \n",
            "  inflating: recordings/1_jackson_15.wav  \n",
            "  inflating: recordings/1_jackson_16.wav  \n",
            "  inflating: recordings/1_jackson_17.wav  \n",
            "  inflating: recordings/1_jackson_18.wav  \n",
            "  inflating: recordings/1_jackson_19.wav  \n",
            "  inflating: recordings/1_jackson_2.wav  \n",
            "  inflating: recordings/1_jackson_20.wav  \n",
            "  inflating: recordings/1_jackson_21.wav  \n",
            "  inflating: recordings/1_jackson_22.wav  \n",
            "  inflating: recordings/1_jackson_23.wav  \n",
            "  inflating: recordings/1_jackson_24.wav  \n",
            "  inflating: recordings/1_jackson_25.wav  \n",
            "  inflating: recordings/1_jackson_26.wav  \n",
            "  inflating: recordings/1_jackson_27.wav  \n",
            "  inflating: recordings/1_jackson_28.wav  \n",
            "  inflating: recordings/1_jackson_29.wav  \n",
            "  inflating: recordings/1_jackson_3.wav  \n",
            "  inflating: recordings/1_jackson_30.wav  \n",
            "  inflating: recordings/1_jackson_31.wav  \n",
            "  inflating: recordings/1_jackson_32.wav  \n",
            "  inflating: recordings/1_jackson_33.wav  \n",
            "  inflating: recordings/1_jackson_34.wav  \n",
            "  inflating: recordings/1_jackson_35.wav  \n",
            "  inflating: recordings/1_jackson_36.wav  \n",
            "  inflating: recordings/1_jackson_37.wav  \n",
            "  inflating: recordings/1_jackson_38.wav  \n",
            "  inflating: recordings/1_jackson_39.wav  \n",
            "  inflating: recordings/1_jackson_4.wav  \n",
            "  inflating: recordings/1_jackson_40.wav  \n",
            "  inflating: recordings/1_jackson_41.wav  \n",
            "  inflating: recordings/1_jackson_42.wav  \n",
            "  inflating: recordings/1_jackson_43.wav  \n",
            "  inflating: recordings/1_jackson_44.wav  \n",
            "  inflating: recordings/1_jackson_45.wav  \n",
            "  inflating: recordings/1_jackson_46.wav  \n",
            "  inflating: recordings/1_jackson_47.wav  \n",
            "  inflating: recordings/1_jackson_48.wav  \n",
            "  inflating: recordings/1_jackson_49.wav  \n",
            "  inflating: recordings/1_jackson_5.wav  \n",
            "  inflating: recordings/1_jackson_6.wav  \n",
            "  inflating: recordings/1_jackson_7.wav  \n",
            "  inflating: recordings/1_jackson_8.wav  \n",
            "  inflating: recordings/1_jackson_9.wav  \n",
            "  inflating: recordings/1_nicolas_0.wav  \n",
            "  inflating: recordings/1_nicolas_1.wav  \n",
            "  inflating: recordings/1_nicolas_10.wav  \n",
            "  inflating: recordings/1_nicolas_11.wav  \n",
            "  inflating: recordings/1_nicolas_12.wav  \n",
            "  inflating: recordings/1_nicolas_13.wav  \n",
            "  inflating: recordings/1_nicolas_14.wav  \n",
            "  inflating: recordings/1_nicolas_15.wav  \n",
            "  inflating: recordings/1_nicolas_16.wav  \n",
            "  inflating: recordings/1_nicolas_17.wav  \n",
            "  inflating: recordings/1_nicolas_18.wav  \n",
            "  inflating: recordings/1_nicolas_19.wav  \n",
            "  inflating: recordings/1_nicolas_2.wav  \n",
            "  inflating: recordings/1_nicolas_20.wav  \n",
            "  inflating: recordings/1_nicolas_21.wav  \n",
            "  inflating: recordings/1_nicolas_22.wav  \n",
            "  inflating: recordings/1_nicolas_23.wav  \n",
            "  inflating: recordings/1_nicolas_24.wav  \n",
            "  inflating: recordings/1_nicolas_25.wav  \n",
            "  inflating: recordings/1_nicolas_26.wav  \n",
            "  inflating: recordings/1_nicolas_27.wav  \n",
            "  inflating: recordings/1_nicolas_28.wav  \n",
            "  inflating: recordings/1_nicolas_29.wav  \n",
            "  inflating: recordings/1_nicolas_3.wav  \n",
            "  inflating: recordings/1_nicolas_30.wav  \n",
            "  inflating: recordings/1_nicolas_31.wav  \n",
            "  inflating: recordings/1_nicolas_32.wav  \n",
            "  inflating: recordings/1_nicolas_33.wav  \n",
            "  inflating: recordings/1_nicolas_34.wav  \n",
            "  inflating: recordings/1_nicolas_35.wav  \n",
            "  inflating: recordings/1_nicolas_36.wav  \n",
            "  inflating: recordings/1_nicolas_37.wav  \n",
            "  inflating: recordings/1_nicolas_38.wav  \n",
            "  inflating: recordings/1_nicolas_39.wav  \n",
            "  inflating: recordings/1_nicolas_4.wav  \n",
            "  inflating: recordings/1_nicolas_40.wav  \n",
            "  inflating: recordings/1_nicolas_41.wav  \n",
            "  inflating: recordings/1_nicolas_42.wav  \n",
            "  inflating: recordings/1_nicolas_43.wav  \n",
            "  inflating: recordings/1_nicolas_44.wav  \n",
            "  inflating: recordings/1_nicolas_45.wav  \n",
            "  inflating: recordings/1_nicolas_46.wav  \n",
            "  inflating: recordings/1_nicolas_47.wav  \n",
            "  inflating: recordings/1_nicolas_48.wav  \n",
            "  inflating: recordings/1_nicolas_49.wav  \n",
            "  inflating: recordings/1_nicolas_5.wav  \n",
            "  inflating: recordings/1_nicolas_6.wav  \n",
            "  inflating: recordings/1_nicolas_7.wav  \n",
            "  inflating: recordings/1_nicolas_8.wav  \n",
            "  inflating: recordings/1_nicolas_9.wav  \n",
            "  inflating: recordings/1_theo_0.wav  \n",
            "  inflating: recordings/1_theo_1.wav  \n",
            "  inflating: recordings/1_theo_10.wav  \n",
            "  inflating: recordings/1_theo_11.wav  \n",
            "  inflating: recordings/1_theo_12.wav  \n",
            "  inflating: recordings/1_theo_13.wav  \n",
            "  inflating: recordings/1_theo_14.wav  \n",
            "  inflating: recordings/1_theo_15.wav  \n",
            "  inflating: recordings/1_theo_16.wav  \n",
            "  inflating: recordings/1_theo_17.wav  \n",
            "  inflating: recordings/1_theo_18.wav  \n",
            "  inflating: recordings/1_theo_19.wav  \n",
            "  inflating: recordings/1_theo_2.wav  \n",
            "  inflating: recordings/1_theo_20.wav  \n",
            "  inflating: recordings/1_theo_21.wav  \n",
            "  inflating: recordings/1_theo_22.wav  \n",
            "  inflating: recordings/1_theo_23.wav  \n",
            "  inflating: recordings/1_theo_24.wav  \n",
            "  inflating: recordings/1_theo_25.wav  \n",
            "  inflating: recordings/1_theo_26.wav  \n",
            "  inflating: recordings/1_theo_27.wav  \n",
            "  inflating: recordings/1_theo_28.wav  \n",
            "  inflating: recordings/1_theo_29.wav  \n",
            "  inflating: recordings/1_theo_3.wav  \n",
            "  inflating: recordings/1_theo_30.wav  \n",
            "  inflating: recordings/1_theo_31.wav  \n",
            "  inflating: recordings/1_theo_32.wav  \n",
            "  inflating: recordings/1_theo_33.wav  \n",
            "  inflating: recordings/1_theo_34.wav  \n",
            "  inflating: recordings/1_theo_35.wav  \n",
            "  inflating: recordings/1_theo_36.wav  \n",
            "  inflating: recordings/1_theo_37.wav  \n",
            "  inflating: recordings/1_theo_38.wav  \n",
            "  inflating: recordings/1_theo_39.wav  \n",
            "  inflating: recordings/1_theo_4.wav  \n",
            "  inflating: recordings/1_theo_40.wav  \n",
            "  inflating: recordings/1_theo_41.wav  \n",
            "  inflating: recordings/1_theo_42.wav  \n",
            "  inflating: recordings/1_theo_43.wav  \n",
            "  inflating: recordings/1_theo_44.wav  \n",
            "  inflating: recordings/1_theo_45.wav  \n",
            "  inflating: recordings/1_theo_46.wav  \n",
            "  inflating: recordings/1_theo_47.wav  \n",
            "  inflating: recordings/1_theo_48.wav  \n",
            "  inflating: recordings/1_theo_49.wav  \n",
            "  inflating: recordings/1_theo_5.wav  \n",
            "  inflating: recordings/1_theo_6.wav  \n",
            "  inflating: recordings/1_theo_7.wav  \n",
            "  inflating: recordings/1_theo_8.wav  \n",
            "  inflating: recordings/1_theo_9.wav  \n",
            "  inflating: recordings/1_yweweler_0.wav  \n",
            "  inflating: recordings/1_yweweler_1.wav  \n",
            "  inflating: recordings/1_yweweler_10.wav  \n",
            "  inflating: recordings/1_yweweler_11.wav  \n",
            "  inflating: recordings/1_yweweler_12.wav  \n",
            "  inflating: recordings/1_yweweler_13.wav  \n",
            "  inflating: recordings/1_yweweler_14.wav  \n",
            "  inflating: recordings/1_yweweler_15.wav  \n",
            "  inflating: recordings/1_yweweler_16.wav  \n",
            "  inflating: recordings/1_yweweler_17.wav  \n",
            "  inflating: recordings/1_yweweler_18.wav  \n",
            "  inflating: recordings/1_yweweler_19.wav  \n",
            "  inflating: recordings/1_yweweler_2.wav  \n",
            "  inflating: recordings/1_yweweler_20.wav  \n",
            "  inflating: recordings/1_yweweler_21.wav  \n",
            "  inflating: recordings/1_yweweler_22.wav  \n",
            "  inflating: recordings/1_yweweler_23.wav  \n",
            "  inflating: recordings/1_yweweler_24.wav  \n",
            "  inflating: recordings/1_yweweler_25.wav  \n",
            "  inflating: recordings/1_yweweler_26.wav  \n",
            "  inflating: recordings/1_yweweler_27.wav  \n",
            "  inflating: recordings/1_yweweler_28.wav  \n",
            "  inflating: recordings/1_yweweler_29.wav  \n",
            "  inflating: recordings/1_yweweler_3.wav  \n",
            "  inflating: recordings/1_yweweler_30.wav  \n",
            "  inflating: recordings/1_yweweler_31.wav  \n",
            "  inflating: recordings/1_yweweler_32.wav  \n",
            "  inflating: recordings/1_yweweler_33.wav  \n",
            "  inflating: recordings/1_yweweler_34.wav  \n",
            "  inflating: recordings/1_yweweler_35.wav  \n",
            "  inflating: recordings/1_yweweler_36.wav  \n",
            "  inflating: recordings/1_yweweler_37.wav  \n",
            "  inflating: recordings/1_yweweler_38.wav  \n",
            "  inflating: recordings/1_yweweler_39.wav  \n",
            "  inflating: recordings/1_yweweler_4.wav  \n",
            "  inflating: recordings/1_yweweler_40.wav  \n",
            "  inflating: recordings/1_yweweler_41.wav  \n",
            "  inflating: recordings/1_yweweler_42.wav  \n",
            "  inflating: recordings/1_yweweler_43.wav  \n",
            "  inflating: recordings/1_yweweler_44.wav  \n",
            "  inflating: recordings/1_yweweler_45.wav  \n",
            "  inflating: recordings/1_yweweler_46.wav  \n",
            "  inflating: recordings/1_yweweler_47.wav  \n",
            "  inflating: recordings/1_yweweler_48.wav  \n",
            "  inflating: recordings/1_yweweler_49.wav  \n",
            "  inflating: recordings/1_yweweler_5.wav  \n",
            "  inflating: recordings/1_yweweler_6.wav  \n",
            "  inflating: recordings/1_yweweler_7.wav  \n",
            "  inflating: recordings/1_yweweler_8.wav  \n",
            "  inflating: recordings/1_yweweler_9.wav  \n",
            "  inflating: recordings/2_jackson_0.wav  \n",
            "  inflating: recordings/2_jackson_1.wav  \n",
            "  inflating: recordings/2_jackson_10.wav  \n",
            "  inflating: recordings/2_jackson_11.wav  \n",
            "  inflating: recordings/2_jackson_12.wav  \n",
            "  inflating: recordings/2_jackson_13.wav  \n",
            "  inflating: recordings/2_jackson_14.wav  \n",
            "  inflating: recordings/2_jackson_15.wav  \n",
            "  inflating: recordings/2_jackson_16.wav  \n",
            "  inflating: recordings/2_jackson_17.wav  \n",
            "  inflating: recordings/2_jackson_18.wav  \n",
            "  inflating: recordings/2_jackson_19.wav  \n",
            "  inflating: recordings/2_jackson_2.wav  \n",
            "  inflating: recordings/2_jackson_20.wav  \n",
            "  inflating: recordings/2_jackson_21.wav  \n",
            "  inflating: recordings/2_jackson_22.wav  \n",
            "  inflating: recordings/2_jackson_23.wav  \n",
            "  inflating: recordings/2_jackson_24.wav  \n",
            "  inflating: recordings/2_jackson_25.wav  \n",
            "  inflating: recordings/2_jackson_26.wav  \n",
            "  inflating: recordings/2_jackson_27.wav  \n",
            "  inflating: recordings/2_jackson_28.wav  \n",
            "  inflating: recordings/2_jackson_29.wav  \n",
            "  inflating: recordings/2_jackson_3.wav  \n",
            "  inflating: recordings/2_jackson_30.wav  \n",
            "  inflating: recordings/2_jackson_31.wav  \n",
            "  inflating: recordings/2_jackson_32.wav  \n",
            "  inflating: recordings/2_jackson_33.wav  \n",
            "  inflating: recordings/2_jackson_34.wav  \n",
            "  inflating: recordings/2_jackson_35.wav  \n",
            "  inflating: recordings/2_jackson_36.wav  \n",
            "  inflating: recordings/2_jackson_37.wav  \n",
            "  inflating: recordings/2_jackson_38.wav  \n",
            "  inflating: recordings/2_jackson_39.wav  \n",
            "  inflating: recordings/2_jackson_4.wav  \n",
            "  inflating: recordings/2_jackson_40.wav  \n",
            "  inflating: recordings/2_jackson_41.wav  \n",
            "  inflating: recordings/2_jackson_42.wav  \n",
            "  inflating: recordings/2_jackson_43.wav  \n",
            "  inflating: recordings/2_jackson_44.wav  \n",
            "  inflating: recordings/2_jackson_45.wav  \n",
            "  inflating: recordings/2_jackson_46.wav  \n",
            "  inflating: recordings/2_jackson_47.wav  \n",
            "  inflating: recordings/2_jackson_48.wav  \n",
            "  inflating: recordings/2_jackson_49.wav  \n",
            "  inflating: recordings/2_jackson_5.wav  \n",
            "  inflating: recordings/2_jackson_6.wav  \n",
            "  inflating: recordings/2_jackson_7.wav  \n",
            "  inflating: recordings/2_jackson_8.wav  \n",
            "  inflating: recordings/2_jackson_9.wav  \n",
            "  inflating: recordings/2_nicolas_0.wav  \n",
            "  inflating: recordings/2_nicolas_1.wav  \n",
            "  inflating: recordings/2_nicolas_10.wav  \n",
            "  inflating: recordings/2_nicolas_11.wav  \n",
            "  inflating: recordings/2_nicolas_12.wav  \n",
            "  inflating: recordings/2_nicolas_13.wav  \n",
            "  inflating: recordings/2_nicolas_14.wav  \n",
            "  inflating: recordings/2_nicolas_15.wav  \n",
            "  inflating: recordings/2_nicolas_16.wav  \n",
            "  inflating: recordings/2_nicolas_17.wav  \n",
            "  inflating: recordings/2_nicolas_18.wav  \n",
            "  inflating: recordings/2_nicolas_19.wav  \n",
            "  inflating: recordings/2_nicolas_2.wav  \n",
            "  inflating: recordings/2_nicolas_20.wav  \n",
            "  inflating: recordings/2_nicolas_21.wav  \n",
            "  inflating: recordings/2_nicolas_22.wav  \n",
            "  inflating: recordings/2_nicolas_23.wav  \n",
            "  inflating: recordings/2_nicolas_24.wav  \n",
            "  inflating: recordings/2_nicolas_25.wav  \n",
            "  inflating: recordings/2_nicolas_26.wav  \n",
            "  inflating: recordings/2_nicolas_27.wav  \n",
            "  inflating: recordings/2_nicolas_28.wav  \n",
            "  inflating: recordings/2_nicolas_29.wav  \n",
            "  inflating: recordings/2_nicolas_3.wav  \n",
            "  inflating: recordings/2_nicolas_30.wav  \n",
            "  inflating: recordings/2_nicolas_31.wav  \n",
            "  inflating: recordings/2_nicolas_32.wav  \n",
            "  inflating: recordings/2_nicolas_33.wav  \n",
            "  inflating: recordings/2_nicolas_34.wav  \n",
            "  inflating: recordings/2_nicolas_35.wav  \n",
            "  inflating: recordings/2_nicolas_36.wav  \n",
            "  inflating: recordings/2_nicolas_37.wav  \n",
            "  inflating: recordings/2_nicolas_38.wav  \n",
            "  inflating: recordings/2_nicolas_39.wav  \n",
            "  inflating: recordings/2_nicolas_4.wav  \n",
            "  inflating: recordings/2_nicolas_40.wav  \n",
            "  inflating: recordings/2_nicolas_41.wav  \n",
            "  inflating: recordings/2_nicolas_42.wav  \n",
            "  inflating: recordings/2_nicolas_43.wav  \n",
            "  inflating: recordings/2_nicolas_44.wav  \n",
            "  inflating: recordings/2_nicolas_45.wav  \n",
            "  inflating: recordings/2_nicolas_46.wav  \n",
            "  inflating: recordings/2_nicolas_47.wav  \n",
            "  inflating: recordings/2_nicolas_48.wav  \n",
            "  inflating: recordings/2_nicolas_49.wav  \n",
            "  inflating: recordings/2_nicolas_5.wav  \n",
            "  inflating: recordings/2_nicolas_6.wav  \n",
            "  inflating: recordings/2_nicolas_7.wav  \n",
            "  inflating: recordings/2_nicolas_8.wav  \n",
            "  inflating: recordings/2_nicolas_9.wav  \n",
            "  inflating: recordings/2_theo_0.wav  \n",
            "  inflating: recordings/2_theo_1.wav  \n",
            "  inflating: recordings/2_theo_10.wav  \n",
            "  inflating: recordings/2_theo_11.wav  \n",
            "  inflating: recordings/2_theo_12.wav  \n",
            "  inflating: recordings/2_theo_13.wav  \n",
            "  inflating: recordings/2_theo_14.wav  \n",
            "  inflating: recordings/2_theo_15.wav  \n",
            "  inflating: recordings/2_theo_16.wav  \n",
            "  inflating: recordings/2_theo_17.wav  \n",
            "  inflating: recordings/2_theo_18.wav  \n",
            "  inflating: recordings/2_theo_19.wav  \n",
            "  inflating: recordings/2_theo_2.wav  \n",
            "  inflating: recordings/2_theo_20.wav  \n",
            "  inflating: recordings/2_theo_21.wav  \n",
            "  inflating: recordings/2_theo_22.wav  \n",
            "  inflating: recordings/2_theo_23.wav  \n",
            "  inflating: recordings/2_theo_24.wav  \n",
            "  inflating: recordings/2_theo_25.wav  \n",
            "  inflating: recordings/2_theo_26.wav  \n",
            "  inflating: recordings/2_theo_27.wav  \n",
            "  inflating: recordings/2_theo_28.wav  \n",
            "  inflating: recordings/2_theo_29.wav  \n",
            "  inflating: recordings/2_theo_3.wav  \n",
            "  inflating: recordings/2_theo_30.wav  \n",
            "  inflating: recordings/2_theo_31.wav  \n",
            "  inflating: recordings/2_theo_32.wav  \n",
            "  inflating: recordings/2_theo_33.wav  \n",
            "  inflating: recordings/2_theo_34.wav  \n",
            "  inflating: recordings/2_theo_35.wav  \n",
            "  inflating: recordings/2_theo_36.wav  \n",
            "  inflating: recordings/2_theo_37.wav  \n",
            "  inflating: recordings/2_theo_38.wav  \n",
            "  inflating: recordings/2_theo_39.wav  \n",
            "  inflating: recordings/2_theo_4.wav  \n",
            "  inflating: recordings/2_theo_40.wav  \n",
            "  inflating: recordings/2_theo_41.wav  \n",
            "  inflating: recordings/2_theo_42.wav  \n",
            "  inflating: recordings/2_theo_43.wav  \n",
            "  inflating: recordings/2_theo_44.wav  \n",
            "  inflating: recordings/2_theo_45.wav  \n",
            "  inflating: recordings/2_theo_46.wav  \n",
            "  inflating: recordings/2_theo_47.wav  \n",
            "  inflating: recordings/2_theo_48.wav  \n",
            "  inflating: recordings/2_theo_49.wav  \n",
            "  inflating: recordings/2_theo_5.wav  \n",
            "  inflating: recordings/2_theo_6.wav  \n",
            "  inflating: recordings/2_theo_7.wav  \n",
            "  inflating: recordings/2_theo_8.wav  \n",
            "  inflating: recordings/2_theo_9.wav  \n",
            "  inflating: recordings/2_yweweler_0.wav  \n",
            "  inflating: recordings/2_yweweler_1.wav  \n",
            "  inflating: recordings/2_yweweler_10.wav  \n",
            "  inflating: recordings/2_yweweler_11.wav  \n",
            "  inflating: recordings/2_yweweler_12.wav  \n",
            "  inflating: recordings/2_yweweler_13.wav  \n",
            "  inflating: recordings/2_yweweler_14.wav  \n",
            "  inflating: recordings/2_yweweler_15.wav  \n",
            "  inflating: recordings/2_yweweler_16.wav  \n",
            "  inflating: recordings/2_yweweler_17.wav  \n",
            "  inflating: recordings/2_yweweler_18.wav  \n",
            "  inflating: recordings/2_yweweler_19.wav  \n",
            "  inflating: recordings/2_yweweler_2.wav  \n",
            "  inflating: recordings/2_yweweler_20.wav  \n",
            "  inflating: recordings/2_yweweler_21.wav  \n",
            "  inflating: recordings/2_yweweler_22.wav  \n",
            "  inflating: recordings/2_yweweler_23.wav  \n",
            "  inflating: recordings/2_yweweler_24.wav  \n",
            "  inflating: recordings/2_yweweler_25.wav  \n",
            "  inflating: recordings/2_yweweler_26.wav  \n",
            "  inflating: recordings/2_yweweler_27.wav  \n",
            "  inflating: recordings/2_yweweler_28.wav  \n",
            "  inflating: recordings/2_yweweler_29.wav  \n",
            "  inflating: recordings/2_yweweler_3.wav  \n",
            "  inflating: recordings/2_yweweler_30.wav  \n",
            "  inflating: recordings/2_yweweler_31.wav  \n",
            "  inflating: recordings/2_yweweler_32.wav  \n",
            "  inflating: recordings/2_yweweler_33.wav  \n",
            "  inflating: recordings/2_yweweler_34.wav  \n",
            "  inflating: recordings/2_yweweler_35.wav  \n",
            "  inflating: recordings/2_yweweler_36.wav  \n",
            "  inflating: recordings/2_yweweler_37.wav  \n",
            "  inflating: recordings/2_yweweler_38.wav  \n",
            "  inflating: recordings/2_yweweler_39.wav  \n",
            "  inflating: recordings/2_yweweler_4.wav  \n",
            "  inflating: recordings/2_yweweler_40.wav  \n",
            "  inflating: recordings/2_yweweler_41.wav  \n",
            "  inflating: recordings/2_yweweler_42.wav  \n",
            "  inflating: recordings/2_yweweler_43.wav  \n",
            "  inflating: recordings/2_yweweler_44.wav  \n",
            "  inflating: recordings/2_yweweler_45.wav  \n",
            "  inflating: recordings/2_yweweler_46.wav  \n",
            "  inflating: recordings/2_yweweler_47.wav  \n",
            "  inflating: recordings/2_yweweler_48.wav  \n",
            "  inflating: recordings/2_yweweler_49.wav  \n",
            "  inflating: recordings/2_yweweler_5.wav  \n",
            "  inflating: recordings/2_yweweler_6.wav  \n",
            "  inflating: recordings/2_yweweler_7.wav  \n",
            "  inflating: recordings/2_yweweler_8.wav  \n",
            "  inflating: recordings/2_yweweler_9.wav  \n",
            "  inflating: recordings/3_jackson_0.wav  \n",
            "  inflating: recordings/3_jackson_1.wav  \n",
            "  inflating: recordings/3_jackson_10.wav  \n",
            "  inflating: recordings/3_jackson_11.wav  \n",
            "  inflating: recordings/3_jackson_12.wav  \n",
            "  inflating: recordings/3_jackson_13.wav  \n",
            "  inflating: recordings/3_jackson_14.wav  \n",
            "  inflating: recordings/3_jackson_15.wav  \n",
            "  inflating: recordings/3_jackson_16.wav  \n",
            "  inflating: recordings/3_jackson_17.wav  \n",
            "  inflating: recordings/3_jackson_18.wav  \n",
            "  inflating: recordings/3_jackson_19.wav  \n",
            "  inflating: recordings/3_jackson_2.wav  \n",
            "  inflating: recordings/3_jackson_20.wav  \n",
            "  inflating: recordings/3_jackson_21.wav  \n",
            "  inflating: recordings/3_jackson_22.wav  \n",
            "  inflating: recordings/3_jackson_23.wav  \n",
            "  inflating: recordings/3_jackson_24.wav  \n",
            "  inflating: recordings/3_jackson_25.wav  \n",
            "  inflating: recordings/3_jackson_26.wav  \n",
            "  inflating: recordings/3_jackson_27.wav  \n",
            "  inflating: recordings/3_jackson_28.wav  \n",
            "  inflating: recordings/3_jackson_29.wav  \n",
            "  inflating: recordings/3_jackson_3.wav  \n",
            "  inflating: recordings/3_jackson_30.wav  \n",
            "  inflating: recordings/3_jackson_31.wav  \n",
            "  inflating: recordings/3_jackson_32.wav  \n",
            "  inflating: recordings/3_jackson_33.wav  \n",
            "  inflating: recordings/3_jackson_34.wav  \n",
            "  inflating: recordings/3_jackson_35.wav  \n",
            "  inflating: recordings/3_jackson_36.wav  \n",
            "  inflating: recordings/3_jackson_37.wav  \n",
            "  inflating: recordings/3_jackson_38.wav  \n",
            "  inflating: recordings/3_jackson_39.wav  \n",
            "  inflating: recordings/3_jackson_4.wav  \n",
            "  inflating: recordings/3_jackson_40.wav  \n",
            "  inflating: recordings/3_jackson_41.wav  \n",
            "  inflating: recordings/3_jackson_42.wav  \n",
            "  inflating: recordings/3_jackson_43.wav  \n",
            "  inflating: recordings/3_jackson_44.wav  \n",
            "  inflating: recordings/3_jackson_45.wav  \n",
            "  inflating: recordings/3_jackson_46.wav  \n",
            "  inflating: recordings/3_jackson_47.wav  \n",
            "  inflating: recordings/3_jackson_48.wav  \n",
            "  inflating: recordings/3_jackson_49.wav  \n",
            "  inflating: recordings/3_jackson_5.wav  \n",
            "  inflating: recordings/3_jackson_6.wav  \n",
            "  inflating: recordings/3_jackson_7.wav  \n",
            "  inflating: recordings/3_jackson_8.wav  \n",
            "  inflating: recordings/3_jackson_9.wav  \n",
            "  inflating: recordings/3_nicolas_0.wav  \n",
            "  inflating: recordings/3_nicolas_1.wav  \n",
            "  inflating: recordings/3_nicolas_10.wav  \n",
            "  inflating: recordings/3_nicolas_11.wav  \n",
            "  inflating: recordings/3_nicolas_12.wav  \n",
            "  inflating: recordings/3_nicolas_13.wav  \n",
            "  inflating: recordings/3_nicolas_14.wav  \n",
            "  inflating: recordings/3_nicolas_15.wav  \n",
            "  inflating: recordings/3_nicolas_16.wav  \n",
            "  inflating: recordings/3_nicolas_17.wav  \n",
            "  inflating: recordings/3_nicolas_18.wav  \n",
            "  inflating: recordings/3_nicolas_19.wav  \n",
            "  inflating: recordings/3_nicolas_2.wav  \n",
            "  inflating: recordings/3_nicolas_20.wav  \n",
            "  inflating: recordings/3_nicolas_21.wav  \n",
            "  inflating: recordings/3_nicolas_22.wav  \n",
            "  inflating: recordings/3_nicolas_23.wav  \n",
            "  inflating: recordings/3_nicolas_24.wav  \n",
            "  inflating: recordings/3_nicolas_25.wav  \n",
            "  inflating: recordings/3_nicolas_26.wav  \n",
            "  inflating: recordings/3_nicolas_27.wav  \n",
            "  inflating: recordings/3_nicolas_28.wav  \n",
            "  inflating: recordings/3_nicolas_29.wav  \n",
            "  inflating: recordings/3_nicolas_3.wav  \n",
            "  inflating: recordings/3_nicolas_30.wav  \n",
            "  inflating: recordings/3_nicolas_31.wav  \n",
            "  inflating: recordings/3_nicolas_32.wav  \n",
            "  inflating: recordings/3_nicolas_33.wav  \n",
            "  inflating: recordings/3_nicolas_34.wav  \n",
            "  inflating: recordings/3_nicolas_35.wav  \n",
            "  inflating: recordings/3_nicolas_36.wav  \n",
            "  inflating: recordings/3_nicolas_37.wav  \n",
            "  inflating: recordings/3_nicolas_38.wav  \n",
            "  inflating: recordings/3_nicolas_39.wav  \n",
            "  inflating: recordings/3_nicolas_4.wav  \n",
            "  inflating: recordings/3_nicolas_40.wav  \n",
            "  inflating: recordings/3_nicolas_41.wav  \n",
            "  inflating: recordings/3_nicolas_42.wav  \n",
            "  inflating: recordings/3_nicolas_43.wav  \n",
            "  inflating: recordings/3_nicolas_44.wav  \n",
            "  inflating: recordings/3_nicolas_45.wav  \n",
            "  inflating: recordings/3_nicolas_46.wav  \n",
            "  inflating: recordings/3_nicolas_47.wav  \n",
            "  inflating: recordings/3_nicolas_48.wav  \n",
            "  inflating: recordings/3_nicolas_49.wav  \n",
            "  inflating: recordings/3_nicolas_5.wav  \n",
            "  inflating: recordings/3_nicolas_6.wav  \n",
            "  inflating: recordings/3_nicolas_7.wav  \n",
            "  inflating: recordings/3_nicolas_8.wav  \n",
            "  inflating: recordings/3_nicolas_9.wav  \n",
            "  inflating: recordings/3_theo_0.wav  \n",
            "  inflating: recordings/3_theo_1.wav  \n",
            "  inflating: recordings/3_theo_10.wav  \n",
            "  inflating: recordings/3_theo_11.wav  \n",
            "  inflating: recordings/3_theo_12.wav  \n",
            "  inflating: recordings/3_theo_13.wav  \n",
            "  inflating: recordings/3_theo_14.wav  \n",
            "  inflating: recordings/3_theo_15.wav  \n",
            "  inflating: recordings/3_theo_16.wav  \n",
            "  inflating: recordings/3_theo_17.wav  \n",
            "  inflating: recordings/3_theo_18.wav  \n",
            "  inflating: recordings/3_theo_19.wav  \n",
            "  inflating: recordings/3_theo_2.wav  \n",
            "  inflating: recordings/3_theo_20.wav  \n",
            "  inflating: recordings/3_theo_21.wav  \n",
            "  inflating: recordings/3_theo_22.wav  \n",
            "  inflating: recordings/3_theo_23.wav  \n",
            "  inflating: recordings/3_theo_24.wav  \n",
            "  inflating: recordings/3_theo_25.wav  \n",
            "  inflating: recordings/3_theo_26.wav  \n",
            "  inflating: recordings/3_theo_27.wav  \n",
            "  inflating: recordings/3_theo_28.wav  \n",
            "  inflating: recordings/3_theo_29.wav  \n",
            "  inflating: recordings/3_theo_3.wav  \n",
            "  inflating: recordings/3_theo_30.wav  \n",
            "  inflating: recordings/3_theo_31.wav  \n",
            "  inflating: recordings/3_theo_32.wav  \n",
            "  inflating: recordings/3_theo_33.wav  \n",
            "  inflating: recordings/3_theo_34.wav  \n",
            "  inflating: recordings/3_theo_35.wav  \n",
            "  inflating: recordings/3_theo_36.wav  \n",
            "  inflating: recordings/3_theo_37.wav  \n",
            "  inflating: recordings/3_theo_38.wav  \n",
            "  inflating: recordings/3_theo_39.wav  \n",
            "  inflating: recordings/3_theo_4.wav  \n",
            "  inflating: recordings/3_theo_40.wav  \n",
            "  inflating: recordings/3_theo_41.wav  \n",
            "  inflating: recordings/3_theo_42.wav  \n",
            "  inflating: recordings/3_theo_43.wav  \n",
            "  inflating: recordings/3_theo_44.wav  \n",
            "  inflating: recordings/3_theo_45.wav  \n",
            "  inflating: recordings/3_theo_46.wav  \n",
            "  inflating: recordings/3_theo_47.wav  \n",
            "  inflating: recordings/3_theo_48.wav  \n",
            "  inflating: recordings/3_theo_49.wav  \n",
            "  inflating: recordings/3_theo_5.wav  \n",
            "  inflating: recordings/3_theo_6.wav  \n",
            "  inflating: recordings/3_theo_7.wav  \n",
            "  inflating: recordings/3_theo_8.wav  \n",
            "  inflating: recordings/3_theo_9.wav  \n",
            "  inflating: recordings/3_yweweler_0.wav  \n",
            "  inflating: recordings/3_yweweler_1.wav  \n",
            "  inflating: recordings/3_yweweler_10.wav  \n",
            "  inflating: recordings/3_yweweler_11.wav  \n",
            "  inflating: recordings/3_yweweler_12.wav  \n",
            "  inflating: recordings/3_yweweler_13.wav  \n",
            "  inflating: recordings/3_yweweler_14.wav  \n",
            "  inflating: recordings/3_yweweler_15.wav  \n",
            "  inflating: recordings/3_yweweler_16.wav  \n",
            "  inflating: recordings/3_yweweler_17.wav  \n",
            "  inflating: recordings/3_yweweler_18.wav  \n",
            "  inflating: recordings/3_yweweler_19.wav  \n",
            "  inflating: recordings/3_yweweler_2.wav  \n",
            "  inflating: recordings/3_yweweler_20.wav  \n",
            "  inflating: recordings/3_yweweler_21.wav  \n",
            "  inflating: recordings/3_yweweler_22.wav  \n",
            "  inflating: recordings/3_yweweler_23.wav  \n",
            "  inflating: recordings/3_yweweler_24.wav  \n",
            "  inflating: recordings/3_yweweler_25.wav  \n",
            "  inflating: recordings/3_yweweler_26.wav  \n",
            "  inflating: recordings/3_yweweler_27.wav  \n",
            "  inflating: recordings/3_yweweler_28.wav  \n",
            "  inflating: recordings/3_yweweler_29.wav  \n",
            "  inflating: recordings/3_yweweler_3.wav  \n",
            "  inflating: recordings/3_yweweler_30.wav  \n",
            "  inflating: recordings/3_yweweler_31.wav  \n",
            "  inflating: recordings/3_yweweler_32.wav  \n",
            "  inflating: recordings/3_yweweler_33.wav  \n",
            "  inflating: recordings/3_yweweler_34.wav  \n",
            "  inflating: recordings/3_yweweler_35.wav  \n",
            "  inflating: recordings/3_yweweler_36.wav  \n",
            "  inflating: recordings/3_yweweler_37.wav  \n",
            "  inflating: recordings/3_yweweler_38.wav  \n",
            "  inflating: recordings/3_yweweler_39.wav  \n",
            "  inflating: recordings/3_yweweler_4.wav  \n",
            "  inflating: recordings/3_yweweler_40.wav  \n",
            "  inflating: recordings/3_yweweler_41.wav  \n",
            "  inflating: recordings/3_yweweler_42.wav  \n",
            "  inflating: recordings/3_yweweler_43.wav  \n",
            "  inflating: recordings/3_yweweler_44.wav  \n",
            "  inflating: recordings/3_yweweler_45.wav  \n",
            "  inflating: recordings/3_yweweler_46.wav  \n",
            "  inflating: recordings/3_yweweler_47.wav  \n",
            "  inflating: recordings/3_yweweler_48.wav  \n",
            "  inflating: recordings/3_yweweler_49.wav  \n",
            "  inflating: recordings/3_yweweler_5.wav  \n",
            "  inflating: recordings/3_yweweler_6.wav  \n",
            "  inflating: recordings/3_yweweler_7.wav  \n",
            "  inflating: recordings/3_yweweler_8.wav  \n",
            "  inflating: recordings/3_yweweler_9.wav  \n",
            "  inflating: recordings/4_jackson_0.wav  \n",
            "  inflating: recordings/4_jackson_1.wav  \n",
            "  inflating: recordings/4_jackson_10.wav  \n",
            "  inflating: recordings/4_jackson_11.wav  \n",
            "  inflating: recordings/4_jackson_12.wav  \n",
            "  inflating: recordings/4_jackson_13.wav  \n",
            "  inflating: recordings/4_jackson_14.wav  \n",
            "  inflating: recordings/4_jackson_15.wav  \n",
            "  inflating: recordings/4_jackson_16.wav  \n",
            "  inflating: recordings/4_jackson_17.wav  \n",
            "  inflating: recordings/4_jackson_18.wav  \n",
            "  inflating: recordings/4_jackson_19.wav  \n",
            "  inflating: recordings/4_jackson_2.wav  \n",
            "  inflating: recordings/4_jackson_20.wav  \n",
            "  inflating: recordings/4_jackson_21.wav  \n",
            "  inflating: recordings/4_jackson_22.wav  \n",
            "  inflating: recordings/4_jackson_23.wav  \n",
            "  inflating: recordings/4_jackson_24.wav  \n",
            "  inflating: recordings/4_jackson_25.wav  \n",
            "  inflating: recordings/4_jackson_26.wav  \n",
            "  inflating: recordings/4_jackson_27.wav  \n",
            "  inflating: recordings/4_jackson_28.wav  \n",
            "  inflating: recordings/4_jackson_29.wav  \n",
            "  inflating: recordings/4_jackson_3.wav  \n",
            "  inflating: recordings/4_jackson_30.wav  \n",
            "  inflating: recordings/4_jackson_31.wav  \n",
            "  inflating: recordings/4_jackson_32.wav  \n",
            "  inflating: recordings/4_jackson_33.wav  \n",
            "  inflating: recordings/4_jackson_34.wav  \n",
            "  inflating: recordings/4_jackson_35.wav  \n",
            "  inflating: recordings/4_jackson_36.wav  \n",
            "  inflating: recordings/4_jackson_37.wav  \n",
            "  inflating: recordings/4_jackson_38.wav  \n",
            "  inflating: recordings/4_jackson_39.wav  \n",
            "  inflating: recordings/4_jackson_4.wav  \n",
            "  inflating: recordings/4_jackson_40.wav  \n",
            "  inflating: recordings/4_jackson_41.wav  \n",
            "  inflating: recordings/4_jackson_42.wav  \n",
            "  inflating: recordings/4_jackson_43.wav  \n",
            "  inflating: recordings/4_jackson_44.wav  \n",
            "  inflating: recordings/4_jackson_45.wav  \n",
            "  inflating: recordings/4_jackson_46.wav  \n",
            "  inflating: recordings/4_jackson_47.wav  \n",
            "  inflating: recordings/4_jackson_48.wav  \n",
            "  inflating: recordings/4_jackson_49.wav  \n",
            "  inflating: recordings/4_jackson_5.wav  \n",
            "  inflating: recordings/4_jackson_6.wav  \n",
            "  inflating: recordings/4_jackson_7.wav  \n",
            "  inflating: recordings/4_jackson_8.wav  \n",
            "  inflating: recordings/4_jackson_9.wav  \n",
            "  inflating: recordings/4_nicolas_0.wav  \n",
            "  inflating: recordings/4_nicolas_1.wav  \n",
            "  inflating: recordings/4_nicolas_10.wav  \n",
            "  inflating: recordings/4_nicolas_11.wav  \n",
            "  inflating: recordings/4_nicolas_12.wav  \n",
            "  inflating: recordings/4_nicolas_13.wav  \n",
            "  inflating: recordings/4_nicolas_14.wav  \n",
            "  inflating: recordings/4_nicolas_15.wav  \n",
            "  inflating: recordings/4_nicolas_16.wav  \n",
            "  inflating: recordings/4_nicolas_17.wav  \n",
            "  inflating: recordings/4_nicolas_18.wav  \n",
            "  inflating: recordings/4_nicolas_19.wav  \n",
            "  inflating: recordings/4_nicolas_2.wav  \n",
            "  inflating: recordings/4_nicolas_20.wav  \n",
            "  inflating: recordings/4_nicolas_21.wav  \n",
            "  inflating: recordings/4_nicolas_22.wav  \n",
            "  inflating: recordings/4_nicolas_23.wav  \n",
            "  inflating: recordings/4_nicolas_24.wav  \n",
            "  inflating: recordings/4_nicolas_25.wav  \n",
            "  inflating: recordings/4_nicolas_26.wav  \n",
            "  inflating: recordings/4_nicolas_27.wav  \n",
            "  inflating: recordings/4_nicolas_28.wav  \n",
            "  inflating: recordings/4_nicolas_29.wav  \n",
            "  inflating: recordings/4_nicolas_3.wav  \n",
            "  inflating: recordings/4_nicolas_30.wav  \n",
            "  inflating: recordings/4_nicolas_31.wav  \n",
            "  inflating: recordings/4_nicolas_32.wav  \n",
            "  inflating: recordings/4_nicolas_33.wav  \n",
            "  inflating: recordings/4_nicolas_34.wav  \n",
            "  inflating: recordings/4_nicolas_35.wav  \n",
            "  inflating: recordings/4_nicolas_36.wav  \n",
            "  inflating: recordings/4_nicolas_37.wav  \n",
            "  inflating: recordings/4_nicolas_38.wav  \n",
            "  inflating: recordings/4_nicolas_39.wav  \n",
            "  inflating: recordings/4_nicolas_4.wav  \n",
            "  inflating: recordings/4_nicolas_40.wav  \n",
            "  inflating: recordings/4_nicolas_41.wav  \n",
            "  inflating: recordings/4_nicolas_42.wav  \n",
            "  inflating: recordings/4_nicolas_43.wav  \n",
            "  inflating: recordings/4_nicolas_44.wav  \n",
            "  inflating: recordings/4_nicolas_45.wav  \n",
            "  inflating: recordings/4_nicolas_46.wav  \n",
            "  inflating: recordings/4_nicolas_47.wav  \n",
            "  inflating: recordings/4_nicolas_48.wav  \n",
            "  inflating: recordings/4_nicolas_49.wav  \n",
            "  inflating: recordings/4_nicolas_5.wav  \n",
            "  inflating: recordings/4_nicolas_6.wav  \n",
            "  inflating: recordings/4_nicolas_7.wav  \n",
            "  inflating: recordings/4_nicolas_8.wav  \n",
            "  inflating: recordings/4_nicolas_9.wav  \n",
            "  inflating: recordings/4_theo_0.wav  \n",
            "  inflating: recordings/4_theo_1.wav  \n",
            "  inflating: recordings/4_theo_10.wav  \n",
            "  inflating: recordings/4_theo_11.wav  \n",
            "  inflating: recordings/4_theo_12.wav  \n",
            "  inflating: recordings/4_theo_13.wav  \n",
            "  inflating: recordings/4_theo_14.wav  \n",
            "  inflating: recordings/4_theo_15.wav  \n",
            "  inflating: recordings/4_theo_16.wav  \n",
            "  inflating: recordings/4_theo_17.wav  \n",
            "  inflating: recordings/4_theo_18.wav  \n",
            "  inflating: recordings/4_theo_19.wav  \n",
            "  inflating: recordings/4_theo_2.wav  \n",
            "  inflating: recordings/4_theo_20.wav  \n",
            "  inflating: recordings/4_theo_21.wav  \n",
            "  inflating: recordings/4_theo_22.wav  \n",
            "  inflating: recordings/4_theo_23.wav  \n",
            "  inflating: recordings/4_theo_24.wav  \n",
            "  inflating: recordings/4_theo_25.wav  \n",
            "  inflating: recordings/4_theo_26.wav  \n",
            "  inflating: recordings/4_theo_27.wav  \n",
            "  inflating: recordings/4_theo_28.wav  \n",
            "  inflating: recordings/4_theo_29.wav  \n",
            "  inflating: recordings/4_theo_3.wav  \n",
            "  inflating: recordings/4_theo_30.wav  \n",
            "  inflating: recordings/4_theo_31.wav  \n",
            "  inflating: recordings/4_theo_32.wav  \n",
            "  inflating: recordings/4_theo_33.wav  \n",
            "  inflating: recordings/4_theo_34.wav  \n",
            "  inflating: recordings/4_theo_35.wav  \n",
            "  inflating: recordings/4_theo_36.wav  \n",
            "  inflating: recordings/4_theo_37.wav  \n",
            "  inflating: recordings/4_theo_38.wav  \n",
            "  inflating: recordings/4_theo_39.wav  \n",
            "  inflating: recordings/4_theo_4.wav  \n",
            "  inflating: recordings/4_theo_40.wav  \n",
            "  inflating: recordings/4_theo_41.wav  \n",
            "  inflating: recordings/4_theo_42.wav  \n",
            "  inflating: recordings/4_theo_43.wav  \n",
            "  inflating: recordings/4_theo_44.wav  \n",
            "  inflating: recordings/4_theo_45.wav  \n",
            "  inflating: recordings/4_theo_46.wav  \n",
            "  inflating: recordings/4_theo_47.wav  \n",
            "  inflating: recordings/4_theo_48.wav  \n",
            "  inflating: recordings/4_theo_49.wav  \n",
            "  inflating: recordings/4_theo_5.wav  \n",
            "  inflating: recordings/4_theo_6.wav  \n",
            "  inflating: recordings/4_theo_7.wav  \n",
            "  inflating: recordings/4_theo_8.wav  \n",
            "  inflating: recordings/4_theo_9.wav  \n",
            "  inflating: recordings/4_yweweler_0.wav  \n",
            "  inflating: recordings/4_yweweler_1.wav  \n",
            "  inflating: recordings/4_yweweler_10.wav  \n",
            "  inflating: recordings/4_yweweler_11.wav  \n",
            "  inflating: recordings/4_yweweler_12.wav  \n",
            "  inflating: recordings/4_yweweler_13.wav  \n",
            "  inflating: recordings/4_yweweler_14.wav  \n",
            "  inflating: recordings/4_yweweler_15.wav  \n",
            "  inflating: recordings/4_yweweler_16.wav  \n",
            "  inflating: recordings/4_yweweler_17.wav  \n",
            "  inflating: recordings/4_yweweler_18.wav  \n",
            "  inflating: recordings/4_yweweler_19.wav  \n",
            "  inflating: recordings/4_yweweler_2.wav  \n",
            "  inflating: recordings/4_yweweler_20.wav  \n",
            "  inflating: recordings/4_yweweler_21.wav  \n",
            "  inflating: recordings/4_yweweler_22.wav  \n",
            "  inflating: recordings/4_yweweler_23.wav  \n",
            "  inflating: recordings/4_yweweler_24.wav  \n",
            "  inflating: recordings/4_yweweler_25.wav  \n",
            "  inflating: recordings/4_yweweler_26.wav  \n",
            "  inflating: recordings/4_yweweler_27.wav  \n",
            "  inflating: recordings/4_yweweler_28.wav  \n",
            "  inflating: recordings/4_yweweler_29.wav  \n",
            "  inflating: recordings/4_yweweler_3.wav  \n",
            "  inflating: recordings/4_yweweler_30.wav  \n",
            "  inflating: recordings/4_yweweler_31.wav  \n",
            "  inflating: recordings/4_yweweler_32.wav  \n",
            "  inflating: recordings/4_yweweler_33.wav  \n",
            "  inflating: recordings/4_yweweler_34.wav  \n",
            "  inflating: recordings/4_yweweler_35.wav  \n",
            "  inflating: recordings/4_yweweler_36.wav  \n",
            "  inflating: recordings/4_yweweler_37.wav  \n",
            "  inflating: recordings/4_yweweler_38.wav  \n",
            "  inflating: recordings/4_yweweler_39.wav  \n",
            "  inflating: recordings/4_yweweler_4.wav  \n",
            "  inflating: recordings/4_yweweler_40.wav  \n",
            "  inflating: recordings/4_yweweler_41.wav  \n",
            "  inflating: recordings/4_yweweler_42.wav  \n",
            "  inflating: recordings/4_yweweler_43.wav  \n",
            "  inflating: recordings/4_yweweler_44.wav  \n",
            "  inflating: recordings/4_yweweler_45.wav  \n",
            "  inflating: recordings/4_yweweler_46.wav  \n",
            "  inflating: recordings/4_yweweler_47.wav  \n",
            "  inflating: recordings/4_yweweler_48.wav  \n",
            "  inflating: recordings/4_yweweler_49.wav  \n",
            "  inflating: recordings/4_yweweler_5.wav  \n",
            "  inflating: recordings/4_yweweler_6.wav  \n",
            "  inflating: recordings/4_yweweler_7.wav  \n",
            "  inflating: recordings/4_yweweler_8.wav  \n",
            "  inflating: recordings/4_yweweler_9.wav  \n",
            "  inflating: recordings/5_jackson_0.wav  \n",
            "  inflating: recordings/5_jackson_1.wav  \n",
            "  inflating: recordings/5_jackson_10.wav  \n",
            "  inflating: recordings/5_jackson_11.wav  \n",
            "  inflating: recordings/5_jackson_12.wav  \n",
            "  inflating: recordings/5_jackson_13.wav  \n",
            "  inflating: recordings/5_jackson_14.wav  \n",
            "  inflating: recordings/5_jackson_15.wav  \n",
            "  inflating: recordings/5_jackson_16.wav  \n",
            "  inflating: recordings/5_jackson_17.wav  \n",
            "  inflating: recordings/5_jackson_18.wav  \n",
            "  inflating: recordings/5_jackson_19.wav  \n",
            "  inflating: recordings/5_jackson_2.wav  \n",
            "  inflating: recordings/5_jackson_20.wav  \n",
            "  inflating: recordings/5_jackson_21.wav  \n",
            "  inflating: recordings/5_jackson_22.wav  \n",
            "  inflating: recordings/5_jackson_23.wav  \n",
            "  inflating: recordings/5_jackson_24.wav  \n",
            "  inflating: recordings/5_jackson_25.wav  \n",
            "  inflating: recordings/5_jackson_26.wav  \n",
            "  inflating: recordings/5_jackson_27.wav  \n",
            "  inflating: recordings/5_jackson_28.wav  \n",
            "  inflating: recordings/5_jackson_29.wav  \n",
            "  inflating: recordings/5_jackson_3.wav  \n",
            "  inflating: recordings/5_jackson_30.wav  \n",
            "  inflating: recordings/5_jackson_31.wav  \n",
            "  inflating: recordings/5_jackson_32.wav  \n",
            "  inflating: recordings/5_jackson_33.wav  \n",
            "  inflating: recordings/5_jackson_34.wav  \n",
            "  inflating: recordings/5_jackson_35.wav  \n",
            "  inflating: recordings/5_jackson_36.wav  \n",
            "  inflating: recordings/5_jackson_37.wav  \n",
            "  inflating: recordings/5_jackson_38.wav  \n",
            "  inflating: recordings/5_jackson_39.wav  \n",
            "  inflating: recordings/5_jackson_4.wav  \n",
            "  inflating: recordings/5_jackson_40.wav  \n",
            "  inflating: recordings/5_jackson_41.wav  \n",
            "  inflating: recordings/5_jackson_42.wav  \n",
            "  inflating: recordings/5_jackson_43.wav  \n",
            "  inflating: recordings/5_jackson_44.wav  \n",
            "  inflating: recordings/5_jackson_45.wav  \n",
            "  inflating: recordings/5_jackson_46.wav  \n",
            "  inflating: recordings/5_jackson_47.wav  \n",
            "  inflating: recordings/5_jackson_48.wav  \n",
            "  inflating: recordings/5_jackson_49.wav  \n",
            "  inflating: recordings/5_jackson_5.wav  \n",
            "  inflating: recordings/5_jackson_6.wav  \n",
            "  inflating: recordings/5_jackson_7.wav  \n",
            "  inflating: recordings/5_jackson_8.wav  \n",
            "  inflating: recordings/5_jackson_9.wav  \n",
            "  inflating: recordings/5_nicolas_0.wav  \n",
            "  inflating: recordings/5_nicolas_1.wav  \n",
            "  inflating: recordings/5_nicolas_10.wav  \n",
            "  inflating: recordings/5_nicolas_11.wav  \n",
            "  inflating: recordings/5_nicolas_12.wav  \n",
            "  inflating: recordings/5_nicolas_13.wav  \n",
            "  inflating: recordings/5_nicolas_14.wav  \n",
            "  inflating: recordings/5_nicolas_15.wav  \n",
            "  inflating: recordings/5_nicolas_16.wav  \n",
            "  inflating: recordings/5_nicolas_17.wav  \n",
            "  inflating: recordings/5_nicolas_18.wav  \n",
            "  inflating: recordings/5_nicolas_19.wav  \n",
            "  inflating: recordings/5_nicolas_2.wav  \n",
            "  inflating: recordings/5_nicolas_20.wav  \n",
            "  inflating: recordings/5_nicolas_21.wav  \n",
            "  inflating: recordings/5_nicolas_22.wav  \n",
            "  inflating: recordings/5_nicolas_23.wav  \n",
            "  inflating: recordings/5_nicolas_24.wav  \n",
            "  inflating: recordings/5_nicolas_25.wav  \n",
            "  inflating: recordings/5_nicolas_26.wav  \n",
            "  inflating: recordings/5_nicolas_27.wav  \n",
            "  inflating: recordings/5_nicolas_28.wav  \n",
            "  inflating: recordings/5_nicolas_29.wav  \n",
            "  inflating: recordings/5_nicolas_3.wav  \n",
            "  inflating: recordings/5_nicolas_30.wav  \n",
            "  inflating: recordings/5_nicolas_31.wav  \n",
            "  inflating: recordings/5_nicolas_32.wav  \n",
            "  inflating: recordings/5_nicolas_33.wav  \n",
            "  inflating: recordings/5_nicolas_34.wav  \n",
            "  inflating: recordings/5_nicolas_35.wav  \n",
            "  inflating: recordings/5_nicolas_36.wav  \n",
            "  inflating: recordings/5_nicolas_37.wav  \n",
            "  inflating: recordings/5_nicolas_38.wav  \n",
            "  inflating: recordings/5_nicolas_39.wav  \n",
            "  inflating: recordings/5_nicolas_4.wav  \n",
            "  inflating: recordings/5_nicolas_40.wav  \n",
            "  inflating: recordings/5_nicolas_41.wav  \n",
            "  inflating: recordings/5_nicolas_42.wav  \n",
            "  inflating: recordings/5_nicolas_43.wav  \n",
            "  inflating: recordings/5_nicolas_44.wav  \n",
            "  inflating: recordings/5_nicolas_45.wav  \n",
            "  inflating: recordings/5_nicolas_46.wav  \n",
            "  inflating: recordings/5_nicolas_47.wav  \n",
            "  inflating: recordings/5_nicolas_48.wav  \n",
            "  inflating: recordings/5_nicolas_49.wav  \n",
            "  inflating: recordings/5_nicolas_5.wav  \n",
            "  inflating: recordings/5_nicolas_6.wav  \n",
            "  inflating: recordings/5_nicolas_7.wav  \n",
            "  inflating: recordings/5_nicolas_8.wav  \n",
            "  inflating: recordings/5_nicolas_9.wav  \n",
            "  inflating: recordings/5_theo_0.wav  \n",
            "  inflating: recordings/5_theo_1.wav  \n",
            "  inflating: recordings/5_theo_10.wav  \n",
            "  inflating: recordings/5_theo_11.wav  \n",
            "  inflating: recordings/5_theo_12.wav  \n",
            "  inflating: recordings/5_theo_13.wav  \n",
            "  inflating: recordings/5_theo_14.wav  \n",
            "  inflating: recordings/5_theo_15.wav  \n",
            "  inflating: recordings/5_theo_16.wav  \n",
            "  inflating: recordings/5_theo_17.wav  \n",
            "  inflating: recordings/5_theo_18.wav  \n",
            "  inflating: recordings/5_theo_19.wav  \n",
            "  inflating: recordings/5_theo_2.wav  \n",
            "  inflating: recordings/5_theo_20.wav  \n",
            "  inflating: recordings/5_theo_21.wav  \n",
            "  inflating: recordings/5_theo_22.wav  \n",
            "  inflating: recordings/5_theo_23.wav  \n",
            "  inflating: recordings/5_theo_24.wav  \n",
            "  inflating: recordings/5_theo_25.wav  \n",
            "  inflating: recordings/5_theo_26.wav  \n",
            "  inflating: recordings/5_theo_27.wav  \n",
            "  inflating: recordings/5_theo_28.wav  \n",
            "  inflating: recordings/5_theo_29.wav  \n",
            "  inflating: recordings/5_theo_3.wav  \n",
            "  inflating: recordings/5_theo_30.wav  \n",
            "  inflating: recordings/5_theo_31.wav  \n",
            "  inflating: recordings/5_theo_32.wav  \n",
            "  inflating: recordings/5_theo_33.wav  \n",
            "  inflating: recordings/5_theo_34.wav  \n",
            "  inflating: recordings/5_theo_35.wav  \n",
            "  inflating: recordings/5_theo_36.wav  \n",
            "  inflating: recordings/5_theo_37.wav  \n",
            "  inflating: recordings/5_theo_38.wav  \n",
            "  inflating: recordings/5_theo_39.wav  \n",
            "  inflating: recordings/5_theo_4.wav  \n",
            "  inflating: recordings/5_theo_40.wav  \n",
            "  inflating: recordings/5_theo_41.wav  \n",
            "  inflating: recordings/5_theo_42.wav  \n",
            "  inflating: recordings/5_theo_43.wav  \n",
            "  inflating: recordings/5_theo_44.wav  \n",
            "  inflating: recordings/5_theo_45.wav  \n",
            "  inflating: recordings/5_theo_46.wav  \n",
            "  inflating: recordings/5_theo_47.wav  \n",
            "  inflating: recordings/5_theo_48.wav  \n",
            "  inflating: recordings/5_theo_49.wav  \n",
            "  inflating: recordings/5_theo_5.wav  \n",
            "  inflating: recordings/5_theo_6.wav  \n",
            "  inflating: recordings/5_theo_7.wav  \n",
            "  inflating: recordings/5_theo_8.wav  \n",
            "  inflating: recordings/5_theo_9.wav  \n",
            "  inflating: recordings/5_yweweler_0.wav  \n",
            "  inflating: recordings/5_yweweler_1.wav  \n",
            "  inflating: recordings/5_yweweler_10.wav  \n",
            "  inflating: recordings/5_yweweler_11.wav  \n",
            "  inflating: recordings/5_yweweler_12.wav  \n",
            "  inflating: recordings/5_yweweler_13.wav  \n",
            "  inflating: recordings/5_yweweler_14.wav  \n",
            "  inflating: recordings/5_yweweler_15.wav  \n",
            "  inflating: recordings/5_yweweler_16.wav  \n",
            "  inflating: recordings/5_yweweler_17.wav  \n",
            "  inflating: recordings/5_yweweler_18.wav  \n",
            "  inflating: recordings/5_yweweler_19.wav  \n",
            "  inflating: recordings/5_yweweler_2.wav  \n",
            "  inflating: recordings/5_yweweler_20.wav  \n",
            "  inflating: recordings/5_yweweler_21.wav  \n",
            "  inflating: recordings/5_yweweler_22.wav  \n",
            "  inflating: recordings/5_yweweler_23.wav  \n",
            "  inflating: recordings/5_yweweler_24.wav  \n",
            "  inflating: recordings/5_yweweler_25.wav  \n",
            "  inflating: recordings/5_yweweler_26.wav  \n",
            "  inflating: recordings/5_yweweler_27.wav  \n",
            "  inflating: recordings/5_yweweler_28.wav  \n",
            "  inflating: recordings/5_yweweler_29.wav  \n",
            "  inflating: recordings/5_yweweler_3.wav  \n",
            "  inflating: recordings/5_yweweler_30.wav  \n",
            "  inflating: recordings/5_yweweler_31.wav  \n",
            "  inflating: recordings/5_yweweler_32.wav  \n",
            "  inflating: recordings/5_yweweler_33.wav  \n",
            "  inflating: recordings/5_yweweler_34.wav  \n",
            "  inflating: recordings/5_yweweler_35.wav  \n",
            "  inflating: recordings/5_yweweler_36.wav  \n",
            "  inflating: recordings/5_yweweler_37.wav  \n",
            "  inflating: recordings/5_yweweler_38.wav  \n",
            "  inflating: recordings/5_yweweler_39.wav  \n",
            "  inflating: recordings/5_yweweler_4.wav  \n",
            "  inflating: recordings/5_yweweler_40.wav  \n",
            "  inflating: recordings/5_yweweler_41.wav  \n",
            "  inflating: recordings/5_yweweler_42.wav  \n",
            "  inflating: recordings/5_yweweler_43.wav  \n",
            "  inflating: recordings/5_yweweler_44.wav  \n",
            "  inflating: recordings/5_yweweler_45.wav  \n",
            "  inflating: recordings/5_yweweler_46.wav  \n",
            "  inflating: recordings/5_yweweler_47.wav  \n",
            "  inflating: recordings/5_yweweler_48.wav  \n",
            "  inflating: recordings/5_yweweler_49.wav  \n",
            "  inflating: recordings/5_yweweler_5.wav  \n",
            "  inflating: recordings/5_yweweler_6.wav  \n",
            "  inflating: recordings/5_yweweler_7.wav  \n",
            "  inflating: recordings/5_yweweler_8.wav  \n",
            "  inflating: recordings/5_yweweler_9.wav  \n",
            "  inflating: recordings/6_jackson_0.wav  \n",
            "  inflating: recordings/6_jackson_1.wav  \n",
            "  inflating: recordings/6_jackson_10.wav  \n",
            "  inflating: recordings/6_jackson_11.wav  \n",
            "  inflating: recordings/6_jackson_12.wav  \n",
            "  inflating: recordings/6_jackson_13.wav  \n",
            "  inflating: recordings/6_jackson_14.wav  \n",
            "  inflating: recordings/6_jackson_15.wav  \n",
            "  inflating: recordings/6_jackson_16.wav  \n",
            "  inflating: recordings/6_jackson_17.wav  \n",
            "  inflating: recordings/6_jackson_18.wav  \n",
            "  inflating: recordings/6_jackson_19.wav  \n",
            "  inflating: recordings/6_jackson_2.wav  \n",
            "  inflating: recordings/6_jackson_20.wav  \n",
            "  inflating: recordings/6_jackson_21.wav  \n",
            "  inflating: recordings/6_jackson_22.wav  \n",
            "  inflating: recordings/6_jackson_23.wav  \n",
            "  inflating: recordings/6_jackson_24.wav  \n",
            "  inflating: recordings/6_jackson_25.wav  \n",
            "  inflating: recordings/6_jackson_26.wav  \n",
            "  inflating: recordings/6_jackson_27.wav  \n",
            "  inflating: recordings/6_jackson_28.wav  \n",
            "  inflating: recordings/6_jackson_29.wav  \n",
            "  inflating: recordings/6_jackson_3.wav  \n",
            "  inflating: recordings/6_jackson_30.wav  \n",
            "  inflating: recordings/6_jackson_31.wav  \n",
            "  inflating: recordings/6_jackson_32.wav  \n",
            "  inflating: recordings/6_jackson_33.wav  \n",
            "  inflating: recordings/6_jackson_34.wav  \n",
            "  inflating: recordings/6_jackson_35.wav  \n",
            "  inflating: recordings/6_jackson_36.wav  \n",
            "  inflating: recordings/6_jackson_37.wav  \n",
            "  inflating: recordings/6_jackson_38.wav  \n",
            "  inflating: recordings/6_jackson_39.wav  \n",
            "  inflating: recordings/6_jackson_4.wav  \n",
            "  inflating: recordings/6_jackson_40.wav  \n",
            "  inflating: recordings/6_jackson_41.wav  \n",
            "  inflating: recordings/6_jackson_42.wav  \n",
            "  inflating: recordings/6_jackson_43.wav  \n",
            "  inflating: recordings/6_jackson_44.wav  \n",
            "  inflating: recordings/6_jackson_45.wav  \n",
            "  inflating: recordings/6_jackson_46.wav  \n",
            "  inflating: recordings/6_jackson_47.wav  \n",
            "  inflating: recordings/6_jackson_48.wav  \n",
            "  inflating: recordings/6_jackson_49.wav  \n",
            "  inflating: recordings/6_jackson_5.wav  \n",
            "  inflating: recordings/6_jackson_6.wav  \n",
            "  inflating: recordings/6_jackson_7.wav  \n",
            "  inflating: recordings/6_jackson_8.wav  \n",
            "  inflating: recordings/6_jackson_9.wav  \n",
            "  inflating: recordings/6_nicolas_0.wav  \n",
            "  inflating: recordings/6_nicolas_1.wav  \n",
            "  inflating: recordings/6_nicolas_10.wav  \n",
            "  inflating: recordings/6_nicolas_11.wav  \n",
            "  inflating: recordings/6_nicolas_12.wav  \n",
            "  inflating: recordings/6_nicolas_13.wav  \n",
            "  inflating: recordings/6_nicolas_14.wav  \n",
            "  inflating: recordings/6_nicolas_15.wav  \n",
            "  inflating: recordings/6_nicolas_16.wav  \n",
            "  inflating: recordings/6_nicolas_17.wav  \n",
            "  inflating: recordings/6_nicolas_18.wav  \n",
            "  inflating: recordings/6_nicolas_19.wav  \n",
            "  inflating: recordings/6_nicolas_2.wav  \n",
            "  inflating: recordings/6_nicolas_20.wav  \n",
            "  inflating: recordings/6_nicolas_21.wav  \n",
            "  inflating: recordings/6_nicolas_22.wav  \n",
            "  inflating: recordings/6_nicolas_23.wav  \n",
            "  inflating: recordings/6_nicolas_24.wav  \n",
            "  inflating: recordings/6_nicolas_25.wav  \n",
            "  inflating: recordings/6_nicolas_26.wav  \n",
            "  inflating: recordings/6_nicolas_27.wav  \n",
            "  inflating: recordings/6_nicolas_28.wav  \n",
            "  inflating: recordings/6_nicolas_29.wav  \n",
            "  inflating: recordings/6_nicolas_3.wav  \n",
            "  inflating: recordings/6_nicolas_30.wav  \n",
            "  inflating: recordings/6_nicolas_31.wav  \n",
            "  inflating: recordings/6_nicolas_32.wav  \n",
            "  inflating: recordings/6_nicolas_33.wav  \n",
            "  inflating: recordings/6_nicolas_34.wav  \n",
            "  inflating: recordings/6_nicolas_35.wav  \n",
            "  inflating: recordings/6_nicolas_36.wav  \n",
            "  inflating: recordings/6_nicolas_37.wav  \n",
            "  inflating: recordings/6_nicolas_38.wav  \n",
            "  inflating: recordings/6_nicolas_39.wav  \n",
            "  inflating: recordings/6_nicolas_4.wav  \n",
            "  inflating: recordings/6_nicolas_40.wav  \n",
            "  inflating: recordings/6_nicolas_41.wav  \n",
            "  inflating: recordings/6_nicolas_42.wav  \n",
            "  inflating: recordings/6_nicolas_43.wav  \n",
            "  inflating: recordings/6_nicolas_44.wav  \n",
            "  inflating: recordings/6_nicolas_45.wav  \n",
            "  inflating: recordings/6_nicolas_46.wav  \n",
            "  inflating: recordings/6_nicolas_47.wav  \n",
            "  inflating: recordings/6_nicolas_48.wav  \n",
            "  inflating: recordings/6_nicolas_49.wav  \n",
            "  inflating: recordings/6_nicolas_5.wav  \n",
            "  inflating: recordings/6_nicolas_6.wav  \n",
            "  inflating: recordings/6_nicolas_7.wav  \n",
            "  inflating: recordings/6_nicolas_8.wav  \n",
            "  inflating: recordings/6_nicolas_9.wav  \n",
            "  inflating: recordings/6_theo_0.wav  \n",
            "  inflating: recordings/6_theo_1.wav  \n",
            "  inflating: recordings/6_theo_10.wav  \n",
            "  inflating: recordings/6_theo_11.wav  \n",
            "  inflating: recordings/6_theo_12.wav  \n",
            "  inflating: recordings/6_theo_13.wav  \n",
            "  inflating: recordings/6_theo_14.wav  \n",
            "  inflating: recordings/6_theo_15.wav  \n",
            "  inflating: recordings/6_theo_16.wav  \n",
            "  inflating: recordings/6_theo_17.wav  \n",
            "  inflating: recordings/6_theo_18.wav  \n",
            "  inflating: recordings/6_theo_19.wav  \n",
            "  inflating: recordings/6_theo_2.wav  \n",
            "  inflating: recordings/6_theo_20.wav  \n",
            "  inflating: recordings/6_theo_21.wav  \n",
            "  inflating: recordings/6_theo_22.wav  \n",
            "  inflating: recordings/6_theo_23.wav  \n",
            "  inflating: recordings/6_theo_24.wav  \n",
            "  inflating: recordings/6_theo_25.wav  \n",
            "  inflating: recordings/6_theo_26.wav  \n",
            "  inflating: recordings/6_theo_27.wav  \n",
            "  inflating: recordings/6_theo_28.wav  \n",
            "  inflating: recordings/6_theo_29.wav  \n",
            "  inflating: recordings/6_theo_3.wav  \n",
            "  inflating: recordings/6_theo_30.wav  \n",
            "  inflating: recordings/6_theo_31.wav  \n",
            "  inflating: recordings/6_theo_32.wav  \n",
            "  inflating: recordings/6_theo_33.wav  \n",
            "  inflating: recordings/6_theo_34.wav  \n",
            "  inflating: recordings/6_theo_35.wav  \n",
            "  inflating: recordings/6_theo_36.wav  \n",
            "  inflating: recordings/6_theo_37.wav  \n",
            "  inflating: recordings/6_theo_38.wav  \n",
            "  inflating: recordings/6_theo_39.wav  \n",
            "  inflating: recordings/6_theo_4.wav  \n",
            "  inflating: recordings/6_theo_40.wav  \n",
            "  inflating: recordings/6_theo_41.wav  \n",
            "  inflating: recordings/6_theo_42.wav  \n",
            "  inflating: recordings/6_theo_43.wav  \n",
            "  inflating: recordings/6_theo_44.wav  \n",
            "  inflating: recordings/6_theo_45.wav  \n",
            "  inflating: recordings/6_theo_46.wav  \n",
            "  inflating: recordings/6_theo_47.wav  \n",
            "  inflating: recordings/6_theo_48.wav  \n",
            "  inflating: recordings/6_theo_49.wav  \n",
            "  inflating: recordings/6_theo_5.wav  \n",
            "  inflating: recordings/6_theo_6.wav  \n",
            "  inflating: recordings/6_theo_7.wav  \n",
            "  inflating: recordings/6_theo_8.wav  \n",
            "  inflating: recordings/6_theo_9.wav  \n",
            "  inflating: recordings/6_yweweler_0.wav  \n",
            "  inflating: recordings/6_yweweler_1.wav  \n",
            "  inflating: recordings/6_yweweler_10.wav  \n",
            "  inflating: recordings/6_yweweler_11.wav  \n",
            "  inflating: recordings/6_yweweler_12.wav  \n",
            "  inflating: recordings/6_yweweler_13.wav  \n",
            "  inflating: recordings/6_yweweler_14.wav  \n",
            "  inflating: recordings/6_yweweler_15.wav  \n",
            "  inflating: recordings/6_yweweler_16.wav  \n",
            "  inflating: recordings/6_yweweler_17.wav  \n",
            "  inflating: recordings/6_yweweler_18.wav  \n",
            "  inflating: recordings/6_yweweler_19.wav  \n",
            "  inflating: recordings/6_yweweler_2.wav  \n",
            "  inflating: recordings/6_yweweler_20.wav  \n",
            "  inflating: recordings/6_yweweler_21.wav  \n",
            "  inflating: recordings/6_yweweler_22.wav  \n",
            "  inflating: recordings/6_yweweler_23.wav  \n",
            "  inflating: recordings/6_yweweler_24.wav  \n",
            "  inflating: recordings/6_yweweler_25.wav  \n",
            "  inflating: recordings/6_yweweler_26.wav  \n",
            "  inflating: recordings/6_yweweler_27.wav  \n",
            "  inflating: recordings/6_yweweler_28.wav  \n",
            "  inflating: recordings/6_yweweler_29.wav  \n",
            "  inflating: recordings/6_yweweler_3.wav  \n",
            "  inflating: recordings/6_yweweler_30.wav  \n",
            "  inflating: recordings/6_yweweler_31.wav  \n",
            "  inflating: recordings/6_yweweler_32.wav  \n",
            "  inflating: recordings/6_yweweler_33.wav  \n",
            "  inflating: recordings/6_yweweler_34.wav  \n",
            "  inflating: recordings/6_yweweler_35.wav  \n",
            "  inflating: recordings/6_yweweler_36.wav  \n",
            "  inflating: recordings/6_yweweler_37.wav  \n",
            "  inflating: recordings/6_yweweler_38.wav  \n",
            "  inflating: recordings/6_yweweler_39.wav  \n",
            "  inflating: recordings/6_yweweler_4.wav  \n",
            "  inflating: recordings/6_yweweler_40.wav  \n",
            "  inflating: recordings/6_yweweler_41.wav  \n",
            "  inflating: recordings/6_yweweler_42.wav  \n",
            "  inflating: recordings/6_yweweler_43.wav  \n",
            "  inflating: recordings/6_yweweler_44.wav  \n",
            "  inflating: recordings/6_yweweler_45.wav  \n",
            "  inflating: recordings/6_yweweler_46.wav  \n",
            "  inflating: recordings/6_yweweler_47.wav  \n",
            "  inflating: recordings/6_yweweler_48.wav  \n",
            "  inflating: recordings/6_yweweler_49.wav  \n",
            "  inflating: recordings/6_yweweler_5.wav  \n",
            "  inflating: recordings/6_yweweler_6.wav  \n",
            "  inflating: recordings/6_yweweler_7.wav  \n",
            "  inflating: recordings/6_yweweler_8.wav  \n",
            "  inflating: recordings/6_yweweler_9.wav  \n",
            "  inflating: recordings/7_jackson_0.wav  \n",
            "  inflating: recordings/7_jackson_1.wav  \n",
            "  inflating: recordings/7_jackson_10.wav  \n",
            "  inflating: recordings/7_jackson_11.wav  \n",
            "  inflating: recordings/7_jackson_12.wav  \n",
            "  inflating: recordings/7_jackson_13.wav  \n",
            "  inflating: recordings/7_jackson_14.wav  \n",
            "  inflating: recordings/7_jackson_15.wav  \n",
            "  inflating: recordings/7_jackson_16.wav  \n",
            "  inflating: recordings/7_jackson_17.wav  \n",
            "  inflating: recordings/7_jackson_18.wav  \n",
            "  inflating: recordings/7_jackson_19.wav  \n",
            "  inflating: recordings/7_jackson_2.wav  \n",
            "  inflating: recordings/7_jackson_20.wav  \n",
            "  inflating: recordings/7_jackson_21.wav  \n",
            "  inflating: recordings/7_jackson_22.wav  \n",
            "  inflating: recordings/7_jackson_23.wav  \n",
            "  inflating: recordings/7_jackson_24.wav  \n",
            "  inflating: recordings/7_jackson_25.wav  \n",
            "  inflating: recordings/7_jackson_26.wav  \n",
            "  inflating: recordings/7_jackson_27.wav  \n",
            "  inflating: recordings/7_jackson_28.wav  \n",
            "  inflating: recordings/7_jackson_29.wav  \n",
            "  inflating: recordings/7_jackson_3.wav  \n",
            "  inflating: recordings/7_jackson_30.wav  \n",
            "  inflating: recordings/7_jackson_31.wav  \n",
            "  inflating: recordings/7_jackson_32.wav  \n",
            "  inflating: recordings/7_jackson_33.wav  \n",
            "  inflating: recordings/7_jackson_34.wav  \n",
            "  inflating: recordings/7_jackson_35.wav  \n",
            "  inflating: recordings/7_jackson_36.wav  \n",
            "  inflating: recordings/7_jackson_37.wav  \n",
            "  inflating: recordings/7_jackson_38.wav  \n",
            "  inflating: recordings/7_jackson_39.wav  \n",
            "  inflating: recordings/7_jackson_4.wav  \n",
            "  inflating: recordings/7_jackson_40.wav  \n",
            "  inflating: recordings/7_jackson_41.wav  \n",
            "  inflating: recordings/7_jackson_42.wav  \n",
            "  inflating: recordings/7_jackson_43.wav  \n",
            "  inflating: recordings/7_jackson_44.wav  \n",
            "  inflating: recordings/7_jackson_45.wav  \n",
            "  inflating: recordings/7_jackson_46.wav  \n",
            "  inflating: recordings/7_jackson_47.wav  \n",
            "  inflating: recordings/7_jackson_48.wav  \n",
            "  inflating: recordings/7_jackson_49.wav  \n",
            "  inflating: recordings/7_jackson_5.wav  \n",
            "  inflating: recordings/7_jackson_6.wav  \n",
            "  inflating: recordings/7_jackson_7.wav  \n",
            "  inflating: recordings/7_jackson_8.wav  \n",
            "  inflating: recordings/7_jackson_9.wav  \n",
            "  inflating: recordings/7_nicolas_0.wav  \n",
            "  inflating: recordings/7_nicolas_1.wav  \n",
            "  inflating: recordings/7_nicolas_10.wav  \n",
            "  inflating: recordings/7_nicolas_11.wav  \n",
            "  inflating: recordings/7_nicolas_12.wav  \n",
            "  inflating: recordings/7_nicolas_13.wav  \n",
            "  inflating: recordings/7_nicolas_14.wav  \n",
            "  inflating: recordings/7_nicolas_15.wav  \n",
            "  inflating: recordings/7_nicolas_16.wav  \n",
            "  inflating: recordings/7_nicolas_17.wav  \n",
            "  inflating: recordings/7_nicolas_18.wav  \n",
            "  inflating: recordings/7_nicolas_19.wav  \n",
            "  inflating: recordings/7_nicolas_2.wav  \n",
            "  inflating: recordings/7_nicolas_20.wav  \n",
            "  inflating: recordings/7_nicolas_21.wav  \n",
            "  inflating: recordings/7_nicolas_22.wav  \n",
            "  inflating: recordings/7_nicolas_23.wav  \n",
            "  inflating: recordings/7_nicolas_24.wav  \n",
            "  inflating: recordings/7_nicolas_25.wav  \n",
            "  inflating: recordings/7_nicolas_26.wav  \n",
            "  inflating: recordings/7_nicolas_27.wav  \n",
            "  inflating: recordings/7_nicolas_28.wav  \n",
            "  inflating: recordings/7_nicolas_29.wav  \n",
            "  inflating: recordings/7_nicolas_3.wav  \n",
            "  inflating: recordings/7_nicolas_30.wav  \n",
            "  inflating: recordings/7_nicolas_31.wav  \n",
            "  inflating: recordings/7_nicolas_32.wav  \n",
            "  inflating: recordings/7_nicolas_33.wav  \n",
            "  inflating: recordings/7_nicolas_34.wav  \n",
            "  inflating: recordings/7_nicolas_35.wav  \n",
            "  inflating: recordings/7_nicolas_36.wav  \n",
            "  inflating: recordings/7_nicolas_37.wav  \n",
            "  inflating: recordings/7_nicolas_38.wav  \n",
            "  inflating: recordings/7_nicolas_39.wav  \n",
            "  inflating: recordings/7_nicolas_4.wav  \n",
            "  inflating: recordings/7_nicolas_40.wav  \n",
            "  inflating: recordings/7_nicolas_41.wav  \n",
            "  inflating: recordings/7_nicolas_42.wav  \n",
            "  inflating: recordings/7_nicolas_43.wav  \n",
            "  inflating: recordings/7_nicolas_44.wav  \n",
            "  inflating: recordings/7_nicolas_45.wav  \n",
            "  inflating: recordings/7_nicolas_46.wav  \n",
            "  inflating: recordings/7_nicolas_47.wav  \n",
            "  inflating: recordings/7_nicolas_48.wav  \n",
            "  inflating: recordings/7_nicolas_49.wav  \n",
            "  inflating: recordings/7_nicolas_5.wav  \n",
            "  inflating: recordings/7_nicolas_6.wav  \n",
            "  inflating: recordings/7_nicolas_7.wav  \n",
            "  inflating: recordings/7_nicolas_8.wav  \n",
            "  inflating: recordings/7_nicolas_9.wav  \n",
            "  inflating: recordings/7_theo_0.wav  \n",
            "  inflating: recordings/7_theo_1.wav  \n",
            "  inflating: recordings/7_theo_10.wav  \n",
            "  inflating: recordings/7_theo_11.wav  \n",
            "  inflating: recordings/7_theo_12.wav  \n",
            "  inflating: recordings/7_theo_13.wav  \n",
            "  inflating: recordings/7_theo_14.wav  \n",
            "  inflating: recordings/7_theo_15.wav  \n",
            "  inflating: recordings/7_theo_16.wav  \n",
            "  inflating: recordings/7_theo_17.wav  \n",
            "  inflating: recordings/7_theo_18.wav  \n",
            "  inflating: recordings/7_theo_19.wav  \n",
            "  inflating: recordings/7_theo_2.wav  \n",
            "  inflating: recordings/7_theo_20.wav  \n",
            "  inflating: recordings/7_theo_21.wav  \n",
            "  inflating: recordings/7_theo_22.wav  \n",
            "  inflating: recordings/7_theo_23.wav  \n",
            "  inflating: recordings/7_theo_24.wav  \n",
            "  inflating: recordings/7_theo_25.wav  \n",
            "  inflating: recordings/7_theo_26.wav  \n",
            "  inflating: recordings/7_theo_27.wav  \n",
            "  inflating: recordings/7_theo_28.wav  \n",
            "  inflating: recordings/7_theo_29.wav  \n",
            "  inflating: recordings/7_theo_3.wav  \n",
            "  inflating: recordings/7_theo_30.wav  \n",
            "  inflating: recordings/7_theo_31.wav  \n",
            "  inflating: recordings/7_theo_32.wav  \n",
            "  inflating: recordings/7_theo_33.wav  \n",
            "  inflating: recordings/7_theo_34.wav  \n",
            "  inflating: recordings/7_theo_35.wav  \n",
            "  inflating: recordings/7_theo_36.wav  \n",
            "  inflating: recordings/7_theo_37.wav  \n",
            "  inflating: recordings/7_theo_38.wav  \n",
            "  inflating: recordings/7_theo_39.wav  \n",
            "  inflating: recordings/7_theo_4.wav  \n",
            "  inflating: recordings/7_theo_40.wav  \n",
            "  inflating: recordings/7_theo_41.wav  \n",
            "  inflating: recordings/7_theo_42.wav  \n",
            "  inflating: recordings/7_theo_43.wav  \n",
            "  inflating: recordings/7_theo_44.wav  \n",
            "  inflating: recordings/7_theo_45.wav  \n",
            "  inflating: recordings/7_theo_46.wav  \n",
            "  inflating: recordings/7_theo_47.wav  \n",
            "  inflating: recordings/7_theo_48.wav  \n",
            "  inflating: recordings/7_theo_49.wav  \n",
            "  inflating: recordings/7_theo_5.wav  \n",
            "  inflating: recordings/7_theo_6.wav  \n",
            "  inflating: recordings/7_theo_7.wav  \n",
            "  inflating: recordings/7_theo_8.wav  \n",
            "  inflating: recordings/7_theo_9.wav  \n",
            "  inflating: recordings/7_yweweler_0.wav  \n",
            "  inflating: recordings/7_yweweler_1.wav  \n",
            "  inflating: recordings/7_yweweler_10.wav  \n",
            "  inflating: recordings/7_yweweler_11.wav  \n",
            "  inflating: recordings/7_yweweler_12.wav  \n",
            "  inflating: recordings/7_yweweler_13.wav  \n",
            "  inflating: recordings/7_yweweler_14.wav  \n",
            "  inflating: recordings/7_yweweler_15.wav  \n",
            "  inflating: recordings/7_yweweler_16.wav  \n",
            "  inflating: recordings/7_yweweler_17.wav  \n",
            "  inflating: recordings/7_yweweler_18.wav  \n",
            "  inflating: recordings/7_yweweler_19.wav  \n",
            "  inflating: recordings/7_yweweler_2.wav  \n",
            "  inflating: recordings/7_yweweler_20.wav  \n",
            "  inflating: recordings/7_yweweler_21.wav  \n",
            "  inflating: recordings/7_yweweler_22.wav  \n",
            "  inflating: recordings/7_yweweler_23.wav  \n",
            "  inflating: recordings/7_yweweler_24.wav  \n",
            "  inflating: recordings/7_yweweler_25.wav  \n",
            "  inflating: recordings/7_yweweler_26.wav  \n",
            "  inflating: recordings/7_yweweler_27.wav  \n",
            "  inflating: recordings/7_yweweler_28.wav  \n",
            "  inflating: recordings/7_yweweler_29.wav  \n",
            "  inflating: recordings/7_yweweler_3.wav  \n",
            "  inflating: recordings/7_yweweler_30.wav  \n",
            "  inflating: recordings/7_yweweler_31.wav  \n",
            "  inflating: recordings/7_yweweler_32.wav  \n",
            "  inflating: recordings/7_yweweler_33.wav  \n",
            "  inflating: recordings/7_yweweler_34.wav  \n",
            "  inflating: recordings/7_yweweler_35.wav  \n",
            "  inflating: recordings/7_yweweler_36.wav  \n",
            "  inflating: recordings/7_yweweler_37.wav  \n",
            "  inflating: recordings/7_yweweler_38.wav  \n",
            "  inflating: recordings/7_yweweler_39.wav  \n",
            "  inflating: recordings/7_yweweler_4.wav  \n",
            "  inflating: recordings/7_yweweler_40.wav  \n",
            "  inflating: recordings/7_yweweler_41.wav  \n",
            "  inflating: recordings/7_yweweler_42.wav  \n",
            "  inflating: recordings/7_yweweler_43.wav  \n",
            "  inflating: recordings/7_yweweler_44.wav  \n",
            "  inflating: recordings/7_yweweler_45.wav  \n",
            "  inflating: recordings/7_yweweler_46.wav  \n",
            "  inflating: recordings/7_yweweler_47.wav  \n",
            "  inflating: recordings/7_yweweler_48.wav  \n",
            "  inflating: recordings/7_yweweler_49.wav  \n",
            "  inflating: recordings/7_yweweler_5.wav  \n",
            "  inflating: recordings/7_yweweler_6.wav  \n",
            "  inflating: recordings/7_yweweler_7.wav  \n",
            "  inflating: recordings/7_yweweler_8.wav  \n",
            "  inflating: recordings/7_yweweler_9.wav  \n",
            "  inflating: recordings/8_jackson_0.wav  \n",
            "  inflating: recordings/8_jackson_1.wav  \n",
            "  inflating: recordings/8_jackson_10.wav  \n",
            "  inflating: recordings/8_jackson_11.wav  \n",
            "  inflating: recordings/8_jackson_12.wav  \n",
            "  inflating: recordings/8_jackson_13.wav  \n",
            "  inflating: recordings/8_jackson_14.wav  \n",
            "  inflating: recordings/8_jackson_15.wav  \n",
            "  inflating: recordings/8_jackson_16.wav  \n",
            "  inflating: recordings/8_jackson_17.wav  \n",
            "  inflating: recordings/8_jackson_18.wav  \n",
            "  inflating: recordings/8_jackson_19.wav  \n",
            "  inflating: recordings/8_jackson_2.wav  \n",
            "  inflating: recordings/8_jackson_20.wav  \n",
            "  inflating: recordings/8_jackson_21.wav  \n",
            "  inflating: recordings/8_jackson_22.wav  \n",
            "  inflating: recordings/8_jackson_23.wav  \n",
            "  inflating: recordings/8_jackson_24.wav  \n",
            "  inflating: recordings/8_jackson_25.wav  \n",
            "  inflating: recordings/8_jackson_26.wav  \n",
            "  inflating: recordings/8_jackson_27.wav  \n",
            "  inflating: recordings/8_jackson_28.wav  \n",
            "  inflating: recordings/8_jackson_29.wav  \n",
            "  inflating: recordings/8_jackson_3.wav  \n",
            "  inflating: recordings/8_jackson_30.wav  \n",
            "  inflating: recordings/8_jackson_31.wav  \n",
            "  inflating: recordings/8_jackson_32.wav  \n",
            "  inflating: recordings/8_jackson_33.wav  \n",
            "  inflating: recordings/8_jackson_34.wav  \n",
            "  inflating: recordings/8_jackson_35.wav  \n",
            "  inflating: recordings/8_jackson_36.wav  \n",
            "  inflating: recordings/8_jackson_37.wav  \n",
            "  inflating: recordings/8_jackson_38.wav  \n",
            "  inflating: recordings/8_jackson_39.wav  \n",
            "  inflating: recordings/8_jackson_4.wav  \n",
            "  inflating: recordings/8_jackson_40.wav  \n",
            "  inflating: recordings/8_jackson_41.wav  \n",
            "  inflating: recordings/8_jackson_42.wav  \n",
            "  inflating: recordings/8_jackson_43.wav  \n",
            "  inflating: recordings/8_jackson_44.wav  \n",
            "  inflating: recordings/8_jackson_45.wav  \n",
            "  inflating: recordings/8_jackson_46.wav  \n",
            "  inflating: recordings/8_jackson_47.wav  \n",
            "  inflating: recordings/8_jackson_48.wav  \n",
            "  inflating: recordings/8_jackson_49.wav  \n",
            "  inflating: recordings/8_jackson_5.wav  \n",
            "  inflating: recordings/8_jackson_6.wav  \n",
            "  inflating: recordings/8_jackson_7.wav  \n",
            "  inflating: recordings/8_jackson_8.wav  \n",
            "  inflating: recordings/8_jackson_9.wav  \n",
            "  inflating: recordings/8_nicolas_0.wav  \n",
            "  inflating: recordings/8_nicolas_1.wav  \n",
            "  inflating: recordings/8_nicolas_10.wav  \n",
            "  inflating: recordings/8_nicolas_11.wav  \n",
            "  inflating: recordings/8_nicolas_12.wav  \n",
            "  inflating: recordings/8_nicolas_13.wav  \n",
            "  inflating: recordings/8_nicolas_14.wav  \n",
            "  inflating: recordings/8_nicolas_15.wav  \n",
            "  inflating: recordings/8_nicolas_16.wav  \n",
            "  inflating: recordings/8_nicolas_17.wav  \n",
            "  inflating: recordings/8_nicolas_18.wav  \n",
            "  inflating: recordings/8_nicolas_19.wav  \n",
            "  inflating: recordings/8_nicolas_2.wav  \n",
            "  inflating: recordings/8_nicolas_20.wav  \n",
            "  inflating: recordings/8_nicolas_21.wav  \n",
            "  inflating: recordings/8_nicolas_22.wav  \n",
            "  inflating: recordings/8_nicolas_23.wav  \n",
            "  inflating: recordings/8_nicolas_24.wav  \n",
            "  inflating: recordings/8_nicolas_25.wav  \n",
            "  inflating: recordings/8_nicolas_26.wav  \n",
            "  inflating: recordings/8_nicolas_27.wav  \n",
            "  inflating: recordings/8_nicolas_28.wav  \n",
            "  inflating: recordings/8_nicolas_29.wav  \n",
            "  inflating: recordings/8_nicolas_3.wav  \n",
            "  inflating: recordings/8_nicolas_30.wav  \n",
            "  inflating: recordings/8_nicolas_31.wav  \n",
            "  inflating: recordings/8_nicolas_32.wav  \n",
            "  inflating: recordings/8_nicolas_33.wav  \n",
            "  inflating: recordings/8_nicolas_34.wav  \n",
            "  inflating: recordings/8_nicolas_35.wav  \n",
            "  inflating: recordings/8_nicolas_36.wav  \n",
            "  inflating: recordings/8_nicolas_37.wav  \n",
            "  inflating: recordings/8_nicolas_38.wav  \n",
            "  inflating: recordings/8_nicolas_39.wav  \n",
            "  inflating: recordings/8_nicolas_4.wav  \n",
            "  inflating: recordings/8_nicolas_40.wav  \n",
            "  inflating: recordings/8_nicolas_41.wav  \n",
            "  inflating: recordings/8_nicolas_42.wav  \n",
            "  inflating: recordings/8_nicolas_43.wav  \n",
            "  inflating: recordings/8_nicolas_44.wav  \n",
            "  inflating: recordings/8_nicolas_45.wav  \n",
            "  inflating: recordings/8_nicolas_46.wav  \n",
            "  inflating: recordings/8_nicolas_47.wav  \n",
            "  inflating: recordings/8_nicolas_48.wav  \n",
            "  inflating: recordings/8_nicolas_49.wav  \n",
            "  inflating: recordings/8_nicolas_5.wav  \n",
            "  inflating: recordings/8_nicolas_6.wav  \n",
            "  inflating: recordings/8_nicolas_7.wav  \n",
            "  inflating: recordings/8_nicolas_8.wav  \n",
            "  inflating: recordings/8_nicolas_9.wav  \n",
            "  inflating: recordings/8_theo_0.wav  \n",
            "  inflating: recordings/8_theo_1.wav  \n",
            "  inflating: recordings/8_theo_10.wav  \n",
            "  inflating: recordings/8_theo_11.wav  \n",
            "  inflating: recordings/8_theo_12.wav  \n",
            "  inflating: recordings/8_theo_13.wav  \n",
            "  inflating: recordings/8_theo_14.wav  \n",
            "  inflating: recordings/8_theo_15.wav  \n",
            "  inflating: recordings/8_theo_16.wav  \n",
            "  inflating: recordings/8_theo_17.wav  \n",
            "  inflating: recordings/8_theo_18.wav  \n",
            "  inflating: recordings/8_theo_19.wav  \n",
            "  inflating: recordings/8_theo_2.wav  \n",
            "  inflating: recordings/8_theo_20.wav  \n",
            "  inflating: recordings/8_theo_21.wav  \n",
            "  inflating: recordings/8_theo_22.wav  \n",
            "  inflating: recordings/8_theo_23.wav  \n",
            "  inflating: recordings/8_theo_24.wav  \n",
            "  inflating: recordings/8_theo_25.wav  \n",
            "  inflating: recordings/8_theo_26.wav  \n",
            "  inflating: recordings/8_theo_27.wav  \n",
            "  inflating: recordings/8_theo_28.wav  \n",
            "  inflating: recordings/8_theo_29.wav  \n",
            "  inflating: recordings/8_theo_3.wav  \n",
            "  inflating: recordings/8_theo_30.wav  \n",
            "  inflating: recordings/8_theo_31.wav  \n",
            "  inflating: recordings/8_theo_32.wav  \n",
            "  inflating: recordings/8_theo_33.wav  \n",
            "  inflating: recordings/8_theo_34.wav  \n",
            "  inflating: recordings/8_theo_35.wav  \n",
            "  inflating: recordings/8_theo_36.wav  \n",
            "  inflating: recordings/8_theo_37.wav  \n",
            "  inflating: recordings/8_theo_38.wav  \n",
            "  inflating: recordings/8_theo_39.wav  \n",
            "  inflating: recordings/8_theo_4.wav  \n",
            "  inflating: recordings/8_theo_40.wav  \n",
            "  inflating: recordings/8_theo_41.wav  \n",
            "  inflating: recordings/8_theo_42.wav  \n",
            "  inflating: recordings/8_theo_43.wav  \n",
            "  inflating: recordings/8_theo_44.wav  \n",
            "  inflating: recordings/8_theo_45.wav  \n",
            "  inflating: recordings/8_theo_46.wav  \n",
            "  inflating: recordings/8_theo_47.wav  \n",
            "  inflating: recordings/8_theo_48.wav  \n",
            "  inflating: recordings/8_theo_49.wav  \n",
            "  inflating: recordings/8_theo_5.wav  \n",
            "  inflating: recordings/8_theo_6.wav  \n",
            "  inflating: recordings/8_theo_7.wav  \n",
            "  inflating: recordings/8_theo_8.wav  \n",
            "  inflating: recordings/8_theo_9.wav  \n",
            "  inflating: recordings/8_yweweler_0.wav  \n",
            "  inflating: recordings/8_yweweler_1.wav  \n",
            "  inflating: recordings/8_yweweler_10.wav  \n",
            "  inflating: recordings/8_yweweler_11.wav  \n",
            "  inflating: recordings/8_yweweler_12.wav  \n",
            "  inflating: recordings/8_yweweler_13.wav  \n",
            "  inflating: recordings/8_yweweler_14.wav  \n",
            "  inflating: recordings/8_yweweler_15.wav  \n",
            "  inflating: recordings/8_yweweler_16.wav  \n",
            "  inflating: recordings/8_yweweler_17.wav  \n",
            "  inflating: recordings/8_yweweler_18.wav  \n",
            "  inflating: recordings/8_yweweler_19.wav  \n",
            "  inflating: recordings/8_yweweler_2.wav  \n",
            "  inflating: recordings/8_yweweler_20.wav  \n",
            "  inflating: recordings/8_yweweler_21.wav  \n",
            "  inflating: recordings/8_yweweler_22.wav  \n",
            "  inflating: recordings/8_yweweler_23.wav  \n",
            "  inflating: recordings/8_yweweler_24.wav  \n",
            "  inflating: recordings/8_yweweler_25.wav  \n",
            "  inflating: recordings/8_yweweler_26.wav  \n",
            "  inflating: recordings/8_yweweler_27.wav  \n",
            "  inflating: recordings/8_yweweler_28.wav  \n",
            "  inflating: recordings/8_yweweler_29.wav  \n",
            "  inflating: recordings/8_yweweler_3.wav  \n",
            "  inflating: recordings/8_yweweler_30.wav  \n",
            "  inflating: recordings/8_yweweler_31.wav  \n",
            "  inflating: recordings/8_yweweler_32.wav  \n",
            "  inflating: recordings/8_yweweler_33.wav  \n",
            "  inflating: recordings/8_yweweler_34.wav  \n",
            "  inflating: recordings/8_yweweler_35.wav  \n",
            "  inflating: recordings/8_yweweler_36.wav  \n",
            "  inflating: recordings/8_yweweler_37.wav  \n",
            "  inflating: recordings/8_yweweler_38.wav  \n",
            "  inflating: recordings/8_yweweler_39.wav  \n",
            "  inflating: recordings/8_yweweler_4.wav  \n",
            "  inflating: recordings/8_yweweler_40.wav  \n",
            "  inflating: recordings/8_yweweler_41.wav  \n",
            "  inflating: recordings/8_yweweler_42.wav  \n",
            "  inflating: recordings/8_yweweler_43.wav  \n",
            "  inflating: recordings/8_yweweler_44.wav  \n",
            "  inflating: recordings/8_yweweler_45.wav  \n",
            "  inflating: recordings/8_yweweler_46.wav  \n",
            "  inflating: recordings/8_yweweler_47.wav  \n",
            "  inflating: recordings/8_yweweler_48.wav  \n",
            "  inflating: recordings/8_yweweler_49.wav  \n",
            "  inflating: recordings/8_yweweler_5.wav  \n",
            "  inflating: recordings/8_yweweler_6.wav  \n",
            "  inflating: recordings/8_yweweler_7.wav  \n",
            "  inflating: recordings/8_yweweler_8.wav  \n",
            "  inflating: recordings/8_yweweler_9.wav  \n",
            "  inflating: recordings/9_jackson_0.wav  \n",
            "  inflating: recordings/9_jackson_1.wav  \n",
            "  inflating: recordings/9_jackson_10.wav  \n",
            "  inflating: recordings/9_jackson_11.wav  \n",
            "  inflating: recordings/9_jackson_12.wav  \n",
            "  inflating: recordings/9_jackson_13.wav  \n",
            "  inflating: recordings/9_jackson_14.wav  \n",
            "  inflating: recordings/9_jackson_15.wav  \n",
            "  inflating: recordings/9_jackson_16.wav  \n",
            "  inflating: recordings/9_jackson_17.wav  \n",
            "  inflating: recordings/9_jackson_18.wav  \n",
            "  inflating: recordings/9_jackson_19.wav  \n",
            "  inflating: recordings/9_jackson_2.wav  \n",
            "  inflating: recordings/9_jackson_20.wav  \n",
            "  inflating: recordings/9_jackson_21.wav  \n",
            "  inflating: recordings/9_jackson_22.wav  \n",
            "  inflating: recordings/9_jackson_23.wav  \n",
            "  inflating: recordings/9_jackson_24.wav  \n",
            "  inflating: recordings/9_jackson_25.wav  \n",
            "  inflating: recordings/9_jackson_26.wav  \n",
            "  inflating: recordings/9_jackson_27.wav  \n",
            "  inflating: recordings/9_jackson_28.wav  \n",
            "  inflating: recordings/9_jackson_29.wav  \n",
            "  inflating: recordings/9_jackson_3.wav  \n",
            "  inflating: recordings/9_jackson_30.wav  \n",
            "  inflating: recordings/9_jackson_31.wav  \n",
            "  inflating: recordings/9_jackson_32.wav  \n",
            "  inflating: recordings/9_jackson_33.wav  \n",
            "  inflating: recordings/9_jackson_34.wav  \n",
            "  inflating: recordings/9_jackson_35.wav  \n",
            "  inflating: recordings/9_jackson_36.wav  \n",
            "  inflating: recordings/9_jackson_37.wav  \n",
            "  inflating: recordings/9_jackson_38.wav  \n",
            "  inflating: recordings/9_jackson_39.wav  \n",
            "  inflating: recordings/9_jackson_4.wav  \n",
            "  inflating: recordings/9_jackson_40.wav  \n",
            "  inflating: recordings/9_jackson_41.wav  \n",
            "  inflating: recordings/9_jackson_42.wav  \n",
            "  inflating: recordings/9_jackson_43.wav  \n",
            "  inflating: recordings/9_jackson_44.wav  \n",
            "  inflating: recordings/9_jackson_45.wav  \n",
            "  inflating: recordings/9_jackson_46.wav  \n",
            "  inflating: recordings/9_jackson_47.wav  \n",
            "  inflating: recordings/9_jackson_48.wav  \n",
            "  inflating: recordings/9_jackson_49.wav  \n",
            "  inflating: recordings/9_jackson_5.wav  \n",
            "  inflating: recordings/9_jackson_6.wav  \n",
            "  inflating: recordings/9_jackson_7.wav  \n",
            "  inflating: recordings/9_jackson_8.wav  \n",
            "  inflating: recordings/9_jackson_9.wav  \n",
            "  inflating: recordings/9_nicolas_0.wav  \n",
            "  inflating: recordings/9_nicolas_1.wav  \n",
            "  inflating: recordings/9_nicolas_10.wav  \n",
            "  inflating: recordings/9_nicolas_11.wav  \n",
            "  inflating: recordings/9_nicolas_12.wav  \n",
            "  inflating: recordings/9_nicolas_13.wav  \n",
            "  inflating: recordings/9_nicolas_14.wav  \n",
            "  inflating: recordings/9_nicolas_15.wav  \n",
            "  inflating: recordings/9_nicolas_16.wav  \n",
            "  inflating: recordings/9_nicolas_17.wav  \n",
            "  inflating: recordings/9_nicolas_18.wav  \n",
            "  inflating: recordings/9_nicolas_19.wav  \n",
            "  inflating: recordings/9_nicolas_2.wav  \n",
            "  inflating: recordings/9_nicolas_20.wav  \n",
            "  inflating: recordings/9_nicolas_21.wav  \n",
            "  inflating: recordings/9_nicolas_22.wav  \n",
            "  inflating: recordings/9_nicolas_23.wav  \n",
            "  inflating: recordings/9_nicolas_24.wav  \n",
            "  inflating: recordings/9_nicolas_25.wav  \n",
            "  inflating: recordings/9_nicolas_26.wav  \n",
            "  inflating: recordings/9_nicolas_27.wav  \n",
            "  inflating: recordings/9_nicolas_28.wav  \n",
            "  inflating: recordings/9_nicolas_29.wav  \n",
            "  inflating: recordings/9_nicolas_3.wav  \n",
            "  inflating: recordings/9_nicolas_30.wav  \n",
            "  inflating: recordings/9_nicolas_31.wav  \n",
            "  inflating: recordings/9_nicolas_32.wav  \n",
            "  inflating: recordings/9_nicolas_33.wav  \n",
            "  inflating: recordings/9_nicolas_34.wav  \n",
            "  inflating: recordings/9_nicolas_35.wav  \n",
            "  inflating: recordings/9_nicolas_36.wav  \n",
            "  inflating: recordings/9_nicolas_37.wav  \n",
            "  inflating: recordings/9_nicolas_38.wav  \n",
            "  inflating: recordings/9_nicolas_39.wav  \n",
            "  inflating: recordings/9_nicolas_4.wav  \n",
            "  inflating: recordings/9_nicolas_40.wav  \n",
            "  inflating: recordings/9_nicolas_41.wav  \n",
            "  inflating: recordings/9_nicolas_42.wav  \n",
            "  inflating: recordings/9_nicolas_43.wav  \n",
            "  inflating: recordings/9_nicolas_44.wav  \n",
            "  inflating: recordings/9_nicolas_45.wav  \n",
            "  inflating: recordings/9_nicolas_46.wav  \n",
            "  inflating: recordings/9_nicolas_47.wav  \n",
            "  inflating: recordings/9_nicolas_48.wav  \n",
            "  inflating: recordings/9_nicolas_49.wav  \n",
            "  inflating: recordings/9_nicolas_5.wav  \n",
            "  inflating: recordings/9_nicolas_6.wav  \n",
            "  inflating: recordings/9_nicolas_7.wav  \n",
            "  inflating: recordings/9_nicolas_8.wav  \n",
            "  inflating: recordings/9_nicolas_9.wav  \n",
            "  inflating: recordings/9_theo_0.wav  \n",
            "  inflating: recordings/9_theo_1.wav  \n",
            "  inflating: recordings/9_theo_10.wav  \n",
            "  inflating: recordings/9_theo_11.wav  \n",
            "  inflating: recordings/9_theo_12.wav  \n",
            "  inflating: recordings/9_theo_13.wav  \n",
            "  inflating: recordings/9_theo_14.wav  \n",
            "  inflating: recordings/9_theo_15.wav  \n",
            "  inflating: recordings/9_theo_16.wav  \n",
            "  inflating: recordings/9_theo_17.wav  \n",
            "  inflating: recordings/9_theo_18.wav  \n",
            "  inflating: recordings/9_theo_19.wav  \n",
            "  inflating: recordings/9_theo_2.wav  \n",
            "  inflating: recordings/9_theo_20.wav  \n",
            "  inflating: recordings/9_theo_21.wav  \n",
            "  inflating: recordings/9_theo_22.wav  \n",
            "  inflating: recordings/9_theo_23.wav  \n",
            "  inflating: recordings/9_theo_24.wav  \n",
            "  inflating: recordings/9_theo_25.wav  \n",
            "  inflating: recordings/9_theo_26.wav  \n",
            "  inflating: recordings/9_theo_27.wav  \n",
            "  inflating: recordings/9_theo_28.wav  \n",
            "  inflating: recordings/9_theo_29.wav  \n",
            "  inflating: recordings/9_theo_3.wav  \n",
            "  inflating: recordings/9_theo_30.wav  \n",
            "  inflating: recordings/9_theo_31.wav  \n",
            "  inflating: recordings/9_theo_32.wav  \n",
            "  inflating: recordings/9_theo_33.wav  \n",
            "  inflating: recordings/9_theo_34.wav  \n",
            "  inflating: recordings/9_theo_35.wav  \n",
            "  inflating: recordings/9_theo_36.wav  \n",
            "  inflating: recordings/9_theo_37.wav  \n",
            "  inflating: recordings/9_theo_38.wav  \n",
            "  inflating: recordings/9_theo_39.wav  \n",
            "  inflating: recordings/9_theo_4.wav  \n",
            "  inflating: recordings/9_theo_40.wav  \n",
            "  inflating: recordings/9_theo_41.wav  \n",
            "  inflating: recordings/9_theo_42.wav  \n",
            "  inflating: recordings/9_theo_43.wav  \n",
            "  inflating: recordings/9_theo_44.wav  \n",
            "  inflating: recordings/9_theo_45.wav  \n",
            "  inflating: recordings/9_theo_46.wav  \n",
            "  inflating: recordings/9_theo_47.wav  \n",
            "  inflating: recordings/9_theo_48.wav  \n",
            "  inflating: recordings/9_theo_49.wav  \n",
            "  inflating: recordings/9_theo_5.wav  \n",
            "  inflating: recordings/9_theo_6.wav  \n",
            "  inflating: recordings/9_theo_7.wav  \n",
            "  inflating: recordings/9_theo_8.wav  \n",
            "  inflating: recordings/9_theo_9.wav  \n",
            "  inflating: recordings/9_yweweler_0.wav  \n",
            "  inflating: recordings/9_yweweler_1.wav  \n",
            "  inflating: recordings/9_yweweler_10.wav  \n",
            "  inflating: recordings/9_yweweler_11.wav  \n",
            "  inflating: recordings/9_yweweler_12.wav  \n",
            "  inflating: recordings/9_yweweler_13.wav  \n",
            "  inflating: recordings/9_yweweler_14.wav  \n",
            "  inflating: recordings/9_yweweler_15.wav  \n",
            "  inflating: recordings/9_yweweler_16.wav  \n",
            "  inflating: recordings/9_yweweler_17.wav  \n",
            "  inflating: recordings/9_yweweler_18.wav  \n",
            "  inflating: recordings/9_yweweler_19.wav  \n",
            "  inflating: recordings/9_yweweler_2.wav  \n",
            "  inflating: recordings/9_yweweler_20.wav  \n",
            "  inflating: recordings/9_yweweler_21.wav  \n",
            "  inflating: recordings/9_yweweler_22.wav  \n",
            "  inflating: recordings/9_yweweler_23.wav  \n",
            "  inflating: recordings/9_yweweler_24.wav  \n",
            "  inflating: recordings/9_yweweler_25.wav  \n",
            "  inflating: recordings/9_yweweler_26.wav  \n",
            "  inflating: recordings/9_yweweler_27.wav  \n",
            "  inflating: recordings/9_yweweler_28.wav  \n",
            "  inflating: recordings/9_yweweler_29.wav  \n",
            "  inflating: recordings/9_yweweler_3.wav  \n",
            "  inflating: recordings/9_yweweler_30.wav  \n",
            "  inflating: recordings/9_yweweler_31.wav  \n",
            "  inflating: recordings/9_yweweler_32.wav  \n",
            "  inflating: recordings/9_yweweler_33.wav  \n",
            "  inflating: recordings/9_yweweler_34.wav  \n",
            "  inflating: recordings/9_yweweler_35.wav  \n",
            "  inflating: recordings/9_yweweler_36.wav  \n",
            "  inflating: recordings/9_yweweler_37.wav  \n",
            "  inflating: recordings/9_yweweler_38.wav  \n",
            "  inflating: recordings/9_yweweler_39.wav  \n",
            "  inflating: recordings/9_yweweler_4.wav  \n",
            "  inflating: recordings/9_yweweler_40.wav  \n",
            "  inflating: recordings/9_yweweler_41.wav  \n",
            "  inflating: recordings/9_yweweler_42.wav  \n",
            "  inflating: recordings/9_yweweler_43.wav  \n",
            "  inflating: recordings/9_yweweler_44.wav  \n",
            "  inflating: recordings/9_yweweler_45.wav  \n",
            "  inflating: recordings/9_yweweler_46.wav  \n",
            "  inflating: recordings/9_yweweler_47.wav  \n",
            "  inflating: recordings/9_yweweler_48.wav  \n",
            "  inflating: recordings/9_yweweler_49.wav  \n",
            "  inflating: recordings/9_yweweler_5.wav  \n",
            "  inflating: recordings/9_yweweler_6.wav  \n",
            "  inflating: recordings/9_yweweler_7.wav  \n",
            "  inflating: recordings/9_yweweler_8.wav  \n",
            "  inflating: recordings/9_yweweler_9.wav  \n"
          ]
        }
      ]
    },
    {
      "cell_type": "markdown",
      "metadata": {
        "id": "AA0nAtjbQLmu"
      },
      "source": [
        "## Creating dataframe"
      ]
    },
    {
      "cell_type": "code",
      "metadata": {
        "id": "HDBcl_PUaNmp"
      },
      "source": [
        "#reading all the files in 'all_files' list and later storing file path and label in a Dataframe\n",
        "#You can get the label from the first letter of name.\n",
        "all_files = os.listdir('recordings')\n",
        "audio_df = pd.DataFrame()\n",
        "audio_df['path'] = ['recordings/' + f for f in all_files]\n",
        "audio_df['label'] = [f.split('_')[0] for f in all_files]\n"
      ],
      "execution_count": 4,
      "outputs": []
    },
    {
      "cell_type": "markdown",
      "metadata": {
        "id": "LZbhCvvRPPMw"
      },
      "source": [
        "## Exploring the sound dataset"
      ]
    },
    {
      "cell_type": "code",
      "metadata": {
        "id": "5ZpuaGuJaNm8",
        "outputId": "191a1941-9393-405b-a789-07159a9e2e5e",
        "colab": {
          "base_uri": "https://localhost:8080/"
        }
      },
      "source": [
        "#info\n",
        "audio_df.info()"
      ],
      "execution_count": 5,
      "outputs": [
        {
          "output_type": "stream",
          "name": "stdout",
          "text": [
            "<class 'pandas.core.frame.DataFrame'>\n",
            "RangeIndex: 2000 entries, 0 to 1999\n",
            "Data columns (total 2 columns):\n",
            " #   Column  Non-Null Count  Dtype \n",
            "---  ------  --------------  ----- \n",
            " 0   path    2000 non-null   object\n",
            " 1   label   2000 non-null   object\n",
            "dtypes: object(2)\n",
            "memory usage: 31.4+ KB\n"
          ]
        }
      ]
    },
    {
      "cell_type": "markdown",
      "source": [
        "**Shuffling the dataset**"
      ],
      "metadata": {
        "id": "WV15hYroQ0sk"
      }
    },
    {
      "cell_type": "code",
      "metadata": {
        "id": "PlfssCc3aNnL"
      },
      "source": [
        "from sklearn.utils import shuffle\n",
        "audio_df = shuffle(audio_df, random_state=33)"
      ],
      "execution_count": 6,
      "outputs": []
    },
    {
      "cell_type": "markdown",
      "metadata": {
        "id": "PZ448aENaNnR"
      },
      "source": [
        "<pre><font size=4>Train and Validation split</font></pre>"
      ]
    },
    {
      "cell_type": "code",
      "metadata": {
        "id": "vSPy-Ln6aNnS"
      },
      "source": [
        "#splitting the data into train and validation\n",
        "#test size of 30%\n",
        "X_tr, X_te, Y_tr, Y_te = train_test_split(audio_df['path'],audio_df['label'],test_size = 0.3,random_state = 45,stratify = audio_df['label'])"
      ],
      "execution_count": 7,
      "outputs": []
    },
    {
      "cell_type": "markdown",
      "metadata": {
        "id": "LGhh-39vaNnb"
      },
      "source": [
        "<pre><font size=4>Preprocessing</font>\n",
        "\n",
        "All files are in the \"WAV\" format. We will read those raw data files using the librosa</pre>"
      ]
    },
    {
      "cell_type": "code",
      "metadata": {
        "id": "i99JacQSaNnc"
      },
      "source": [
        "sample_rate = 22050\n",
        "\n",
        "def load_wav(x,get_duration=True):\n",
        "    '''This return the array values of audio with sampling rate of 22050 and Duration'''\n",
        "    #loading the wav file with sampling rate of 22050\n",
        "    samples,sample_rate = librosa.load(x,sr=22050)\n",
        "    if get_duration:\n",
        "        duration = librosa.get_duration(y = samples, sr = sample_rate)\n",
        "        return [samples, duration]\n",
        "    else:\n",
        "        return samples"
      ],
      "execution_count": 8,
      "outputs": []
    },
    {
      "cell_type": "code",
      "source": [
        "X_tr[:5]"
      ],
      "metadata": {
        "colab": {
          "base_uri": "https://localhost:8080/"
        },
        "id": "g83o5kTs2lWe",
        "outputId": "49957cf4-a8fc-4293-cbf0-03f3135d4e5c"
      },
      "execution_count": 38,
      "outputs": [
        {
          "output_type": "execute_result",
          "data": {
            "text/plain": [
              "299     recordings/6_jackson_45.wav\n",
              "331        recordings/1_theo_37.wav\n",
              "716      recordings/6_nicolas_5.wav\n",
              "625    recordings/5_yweweler_32.wav\n",
              "755      recordings/0_nicolas_9.wav\n",
              "Name: path, dtype: object"
            ]
          },
          "metadata": {},
          "execution_count": 38
        }
      ]
    },
    {
      "cell_type": "code",
      "metadata": {
        "id": "Rx97f8GGaNnh"
      },
      "source": [
        "## using load_wav function that was written above to get every wave.\n",
        "X_train_processed, tr_samples, tr_durations = pd.DataFrame(), list(), list()\n",
        "X_test_processed, te_samples, te_durations = pd.DataFrame(), list(), list()\n",
        "\n",
        "for f in X_tr.values:\n",
        "    samples,durations = load_wav(f)\n",
        "    tr_samples.append(samples)\n",
        "    tr_durations.append(durations)\n",
        "\n",
        "for f in X_te.values:\n",
        "    samples,durations = load_wav(f)\n",
        "    te_samples.append(samples)\n",
        "    te_durations.append(durations)\n",
        "\n",
        "## Converting to a dataframe conataining 'raw_data' and 'duration' as columns\n",
        "X_train_processed['raw_data'], X_train_processed['duration'] = tr_samples, tr_durations\n",
        "X_test_processed['raw_data'], X_test_processed['duration'] = te_samples, te_durations\n"
      ],
      "execution_count": 39,
      "outputs": []
    },
    {
      "cell_type": "code",
      "metadata": {
        "id": "duQZPQevaNno",
        "outputId": "4e5321e1-db09-46b4-9f76-68edb1e6494f",
        "colab": {
          "base_uri": "https://localhost:8080/",
          "height": 472
        }
      },
      "source": [
        "#plot the histogram of the duration for train\n",
        "import matplotlib.pyplot as plt\n",
        "\n",
        "plt.hist(X_train_processed.duration)\n",
        "plt.xlabel('Duration')\n",
        "plt.title('Histogram of train audio durations')\n",
        "plt.show()"
      ],
      "execution_count": 11,
      "outputs": [
        {
          "output_type": "display_data",
          "data": {
            "text/plain": [
              "<Figure size 640x480 with 1 Axes>"
            ],
            "image/png": "[encoded data removed]"
          },
          "metadata": {}
        }
      ]
    },
    {
      "cell_type": "markdown",
      "source": [
        " **From above one can observe that duration distribution is skewed towards right. In other words, most of train durations are less than 0.8 seconds duration.**"
      ],
      "metadata": {
        "id": "SPxulk6TRooQ"
      }
    },
    {
      "cell_type": "code",
      "metadata": {
        "id": "wE5SDRzSaNns",
        "outputId": "4c135936-72b0-4c19-cafc-17f636498ac8",
        "colab": {
          "base_uri": "https://localhost:8080/",
          "height": 472
        }
      },
      "source": [
        "#plot the histogram of the duration for test\n",
        "plt.hist(X_test_processed.duration)\n",
        "plt.xlabel('Duration')\n",
        "plt.title('Histogram of test audio durations')\n",
        "plt.show()\n"
      ],
      "execution_count": 12,
      "outputs": [
        {
          "output_type": "display_data",
          "data": {
            "text/plain": [
              "<Figure size 640x480 with 1 Axes>"
            ],
            "image/png": "[encoded data removed]"
          },
          "metadata": {}
        }
      ]
    },
    {
      "cell_type": "markdown",
      "source": [
        "**Similar to train duraation, even test duration follows same distribution.**"
      ],
      "metadata": {
        "id": "yYgn8hS9SB9k"
      }
    },
    {
      "cell_type": "code",
      "metadata": {
        "id": "vvLhm1AqaNny",
        "outputId": "f1f7c73b-fda1-4489-a710-97af8142585c",
        "colab": {
          "base_uri": "https://localhost:8080/"
        }
      },
      "source": [
        "#print 0 to 100 percentile values with step size of 10 for train data duration.\n",
        "for i in range(0,110,10):\n",
        "    print(f'{i}th percentile is {np.percentile(X_train_processed.duration,i)}')"
      ],
      "execution_count": 13,
      "outputs": [
        {
          "output_type": "stream",
          "name": "stdout",
          "text": [
            "0th percentile is 0.1435374149659864\n",
            "10th percentile is 0.2581269841269841\n",
            "20th percentile is 0.29777777777777775\n",
            "30th percentile is 0.3308707482993197\n",
            "40th percentile is 0.35900226757369613\n",
            "50th percentile is 0.3896598639455782\n",
            "60th percentile is 0.41756009070294786\n",
            "70th percentile is 0.44979138321995465\n",
            "80th percentile is 0.48757369614512475\n",
            "90th percentile is 0.5588299319727895\n",
            "100th percentile is 2.195918367346939\n"
          ]
        }
      ]
    },
    {
      "cell_type": "code",
      "metadata": {
        "id": "rSlVQh4CaNn2",
        "outputId": "440221e8-3c1c-405d-b818-d8f9e38a8bc6",
        "colab": {
          "base_uri": "https://localhost:8080/"
        }
      },
      "source": [
        "##print 90 to 100 percentile values with step size of 1.\n",
        "for i in range(90,101,1):\n",
        "    print(f'{i}th percentile is {np.percentile(X_train_processed.duration,i)}')"
      ],
      "execution_count": 14,
      "outputs": [
        {
          "output_type": "stream",
          "name": "stdout",
          "text": [
            "90th percentile is 0.5588299319727895\n",
            "91th percentile is 0.5744204081632656\n",
            "92th percentile is 0.5829315192743765\n",
            "93th percentile is 0.6012321995464855\n",
            "94th percentile is 0.6146947845804989\n",
            "95th percentile is 0.6269614512471655\n",
            "96th percentile is 0.6400816326530612\n",
            "97th percentile is 0.6549514739229024\n",
            "98th percentile is 0.6823900226757368\n",
            "99th percentile is 0.7831392290249433\n",
            "100th percentile is 2.195918367346939\n"
          ]
        }
      ]
    },
    {
      "cell_type": "markdown",
      "source": [
        "\n",
        "#KEY POINTS:\n",
        "\n",
        "\n",
        "1.   Based on our analysis 99 percentile values are less than 0.8sec so we will limit maximum length of X_train_processed and X_test_processed to 0.8 sec. It is similar to pad_sequence for a text dataset\n",
        "2.   While loading the audio files, we are using sampling rate of 22050 so one sec will give array of length 22050. so, our maximum length is 0.8*22050 = 17640 Pad with Zero if length of sequence is less than 17640 else Truncate the number.\n",
        "3. Creating masking vector value = 1 if it is real value, 0 if it is pad value. Masking vector data type must be bool.\n",
        "\n"
      ],
      "metadata": {
        "id": "8mox5sZYSRR6"
      }
    },
    {
      "cell_type": "code",
      "metadata": {
        "id": "voqSEyvcaNoO"
      },
      "source": [
        "max_length  = 17640"
      ],
      "execution_count": 15,
      "outputs": []
    },
    {
      "cell_type": "code",
      "metadata": {
        "id": "B1-_r20BaNoW"
      },
      "source": [
        "## as discussed above, Padding with Zero if length of sequence is less than 17640 else Truncate the number.\n",
        "X_train_pad_seq = pad_sequences(X_train_processed['raw_data'],maxlen = max_length, padding = 'post',dtype = 'float32', truncating = 'post')\n",
        "X_test_pad_seq = pad_sequences(X_test_processed['raw_data'],maxlen = max_length,padding = 'post',dtype = 'float32', truncating = 'post')\n",
        "## Creating masking vector X_train_mask, X_test_mask\n",
        "X_train_mask = X_train_pad_seq != 0\n",
        "X_test_mask = X_test_pad_seq != 0\n",
        "## all the X_train_pad_seq, X_test_pad_seq, X_train_mask, X_test_mask will be numpy arrays mask vector dtype must be bool."
      ],
      "execution_count": 40,
      "outputs": []
    },
    {
      "cell_type": "markdown",
      "source": [
        "# Task 1 -  Giving Raw data directly.\n",
        "\n",
        "\n",
        "---\n",
        "\n",
        "\n",
        "\n",
        "Steps -\n",
        "\n",
        "\n",
        "\n",
        "1.  Data :\n",
        "\n",
        "    *   Train data : X_train_pad_seq, X_train_mask and y_train\n",
        "    *   Test data: X_test_pad_seq, X_test_mask and y_test\n",
        "2.  Creating an LSTM network which takes \"X_train_pad_seq\" as input, \"X_train_mask\" as mask input.\n",
        "3.  Taking the final output of the LSTM and giving it to Dense layer and later feeding it to Dense layer of size 10(because we have 10 outputs) and then compile with the sparse categorical cross entropy(because we are not converting it to one hot vectors).\n",
        "\n",
        "\n",
        "\n"
      ],
      "metadata": {
        "id": "B-GvbQErOKon"
      }
    },
    {
      "cell_type": "code",
      "source": [
        "# Ensuring train and test labels are of type int\n",
        "Y_tr = Y_tr.values.astype('int')\n",
        "Y_te = Y_te.values.astype('int')"
      ],
      "metadata": {
        "id": "PwdsCm0HM1LV"
      },
      "execution_count": 17,
      "outputs": []
    },
    {
      "cell_type": "markdown",
      "source": [
        "## Defining Model1 Architecture"
      ],
      "metadata": {
        "id": "Vdw0kgRa2tub"
      }
    },
    {
      "cell_type": "code",
      "metadata": {
        "id": "BZO4szvvO_r9"
      },
      "source": [
        "rawinput = Input(shape = (17640,1))\n",
        "mask_input = Input(shape = 17640, dtype = 'bool')\n",
        "layer_1 = LSTM(50)(rawinput, mask = mask_input)\n",
        "layer_2 = Dense(50,activation = 'relu', kernel_initializer = 'he_normal')(layer_1)\n",
        "output = Dense(10, activation = 'softmax', kernel_initializer = 'he_normal' )(layer_2)\n",
        "\n",
        "model1 = Model(inputs = [rawinput,mask_input], outputs = output)"
      ],
      "execution_count": 18,
      "outputs": []
    },
    {
      "cell_type": "code",
      "source": [
        "#plotting the MODEL_1 arch\n",
        "tf.keras.utils.plot_model(model1, show_shapes = True, to_file =\"model1.png\")"
      ],
      "metadata": {
        "colab": {
          "base_uri": "https://localhost:8080/",
          "height": 422
        },
        "id": "_4VWV0mnwnDe",
        "outputId": "0b941c5e-73bb-4a6a-9400-e431a192bfa4"
      },
      "execution_count": 19,
      "outputs": [
        {
          "output_type": "execute_result",
          "data": {
            "image/png": "[encoded data removed]",
            "text/plain": [
              "<IPython.core.display.Image object>"
            ]
          },
          "metadata": {},
          "execution_count": 19
        }
      ]
    },
    {
      "cell_type": "code",
      "source": [
        "model1.summary()"
      ],
      "metadata": {
        "colab": {
          "base_uri": "https://localhost:8080/"
        },
        "id": "tdCpEmwoNfV8",
        "outputId": "9dd006a7-4d27-454e-d98f-791a2bc36513"
      },
      "execution_count": 20,
      "outputs": [
        {
          "output_type": "stream",
          "name": "stdout",
          "text": [
            "Model: \"model\"\n",
            "__________________________________________________________________________________________________\n",
            " Layer (type)                   Output Shape         Param #     Connected to                     \n",
            "==================================================================================================\n",
            " input_1 (InputLayer)           [(None, 17640, 1)]   0           []                               \n",
            "                                                                                                  \n",
            " input_2 (InputLayer)           [(None, 17640)]      0           []                               \n",
            "                                                                                                  \n",
            " lstm (LSTM)                    (None, 50)           10400       ['input_1[0][0]',                \n",
            "                                                                  'input_2[0][0]']                \n",
            "                                                                                                  \n",
            " dense (Dense)                  (None, 50)           2550        ['lstm[0][0]']                   \n",
            "                                                                                                  \n",
            " dense_1 (Dense)                (None, 10)           510         ['dense[0][0]']                  \n",
            "                                                                                                  \n",
            "==================================================================================================\n",
            "Total params: 13,460\n",
            "Trainable params: 13,460\n",
            "Non-trainable params: 0\n",
            "__________________________________________________________________________________________________\n"
          ]
        }
      ]
    },
    {
      "cell_type": "markdown",
      "source": [
        "## Defining Callbacks like\n",
        "1. Earlystopping - stop training if performance drops below the predefined patience level.\n",
        "2. Tensorboard - Plotting train and test evaluation metrics. Moreover weights.\n",
        "3. CustomF1Score class to compute F1Score."
      ],
      "metadata": {
        "id": "2qo-UDssN-gw"
      }
    },
    {
      "cell_type": "code",
      "source": [
        "\n",
        "class CustomF1_Score(Callback):\n",
        "    def __init__(self,train,test):\n",
        "        self.train_data = (train[0], train[1])\n",
        "        self.validation_data = (test[0], test[1])\n",
        "    def on_train_begin(self, logs={}):\n",
        "        pass\n",
        "    def on_epoch_end(self, epochs, logs={}):\n",
        "        #train data\n",
        "        tr_predict = np.argmax((np.asarray(self.model.predict(self.train_data[0]))).round(),axis = 1)\n",
        "        tr_target = self.train_data[1]\n",
        "        #Validation data\n",
        "        val_predict = np.argmax((np.asarray(self.model.predict(self.validation_data[0]))).round(),axis = 1)\n",
        "        val_targ = self.validation_data[1]\n",
        "\n",
        "        #f1_score train\n",
        "        f1_s_tr = f1_score(tr_target, tr_predict, average = \"micro\")\n",
        "        logs[\"Train_F1_Score\"] = f1_s_tr\n",
        "        #f1_score test\n",
        "        f1_s = f1_score(val_targ, val_predict, average = \"micro\")\n",
        "        logs[\"Val_F1_Score\"] = f1_s"
      ],
      "metadata": {
        "id": "w6dpi2l2Odo5"
      },
      "execution_count": 41,
      "outputs": []
    },
    {
      "cell_type": "code",
      "source": [
        "earlystop = EarlyStopping(monitor = \"val_loss\", min_delta = 1e-5,patience = 5, verbose = 1)\n",
        "\n",
        "logdir = os.path.join(\"logs\",datetime.datetime.now().strftime(\"%Y%m%d-%H%M%S\"))\n",
        "tensorboard_callback = tf.keras.callbacks.TensorBoard(log_dir = logdir, histogram_freq = 1, write_graph = True)\n",
        "\n",
        "f1score_cb = CustomF1_Score(([X_train_pad_seq,X_train_mask],Y_tr),([X_test_pad_seq,X_test_mask],Y_te))\n",
        "\n",
        "callback_list = [earlystop, tensorboard_callback, f1score_cb]"
      ],
      "metadata": {
        "id": "1vYK_ezjQCmI"
      },
      "execution_count": 42,
      "outputs": []
    },
    {
      "cell_type": "code",
      "source": [
        "model1.compile(optimizer='adam',loss='sparse_categorical_crossentropy')\n",
        "\n",
        "model1.fit([X_train_pad_seq,X_train_mask],Y_tr,validation_data =([X_test_pad_seq,X_test_mask],Y_te),batch_size= 16,epochs=5,callbacks = callback_list)"
      ],
      "metadata": {
        "colab": {
          "base_uri": "https://localhost:8080/"
        },
        "id": "1aiV08RUNFWw",
        "outputId": "a6bea370-aafa-40f9-b2e9-b415568b8cb2"
      },
      "execution_count": 43,
      "outputs": [
        {
          "metadata": {
            "tags": null
          },
          "name": "stdout",
          "output_type": "stream",
          "text": [
            "Epoch 1/5\n",
            "44/44 [==============================] - 7s 146ms/step\n",
            "19/19 [==============================] - 3s 148ms/step\n",
            "88/88 [==============================] - 46s 482ms/step - loss: 2.3036 - val_loss: 2.3026 - Train_F1_Score: 0.1000 - Val_F1_Score: 0.1000\n",
            "Epoch 2/5\n",
            "44/44 [==============================] - 6s 146ms/step\n",
            "19/19 [==============================] - 3s 149ms/step\n",
            "88/88 [==============================] - 39s 448ms/step - loss: 2.3029 - val_loss: 2.3026 - Train_F1_Score: 0.1000 - Val_F1_Score: 0.1000\n",
            "Epoch 3/5\n",
            "44/44 [==============================] - 6s 146ms/step\n",
            "19/19 [==============================] - 3s 148ms/step\n",
            "88/88 [==============================] - 39s 448ms/step - loss: 2.3030 - val_loss: 2.3026 - Train_F1_Score: 0.1000 - Val_F1_Score: 0.1000\n",
            "Epoch 4/5\n",
            "44/44 [==============================] - 6s 145ms/step\n",
            "19/19 [==============================] - 3s 149ms/step\n",
            "88/88 [==============================] - 39s 445ms/step - loss: 2.3027 - val_loss: 2.3027 - Train_F1_Score: 0.1000 - Val_F1_Score: 0.1000\n",
            "Epoch 5/5\n",
            "44/44 [==============================] - 6s 145ms/step\n",
            "19/19 [==============================] - 3s 148ms/step\n",
            "88/88 [==============================] - 39s 441ms/step - loss: 2.3068 - val_loss: 2.3029 - Train_F1_Score: 0.1000 - Val_F1_Score: 0.1000\n"
          ]
        },
        {
          "data": {
            "text/plain": [
              "<keras.callbacks.History at 0x7ca7b0286e00>"
            ]
          },
          "execution_count": 43,
          "metadata": {},
          "output_type": "execute_result"
        }
      ]
    },
    {
      "cell_type": "code",
      "source": [
        "%tensorboard --logdir $logdir"
      ],
      "metadata": {
        "colab": {
          "base_uri": "https://localhost:8080/",
          "height": 225
        },
        "id": "uOQIbirf4l4G",
        "outputId": "81082ce1-a30d-4737-a64f-0b80690a6a8e"
      },
      "execution_count": 44,
      "outputs": [
        {
          "output_type": "display_data",
          "data": {
            "text/plain": [
              "ERROR: Failed to launch TensorBoard (exited with 1).\n",
              "Contents of stderr:\n",
              "2023-08-24 20:49:57.175042: W tensorflow/compiler/tf2tensorrt/utils/py_utils.cc:38] TF-TRT Warning: Could not find TensorRT\n",
              "\n",
              "NOTE: Using experimental fast data loading logic. To disable, pass\n",
              "    \"--load_fast=false\" and report issues on GitHub. More details:\n",
              "    https://github.com/tensorflow/tensorboard/issues/4784\n",
              "\n",
              "Address already in use\n",
              "Port 6006 is in use by another program. Either identify and stop that program, or start the server with a different port."
            ]
          },
          "metadata": {}
        }
      ]
    },
    {
      "cell_type": "code",
      "source": [
        "!rm -rf ./logs"
      ],
      "metadata": {
        "id": "eEnG_vAgSqSG"
      },
      "execution_count": 25,
      "outputs": []
    },
    {
      "cell_type": "markdown",
      "source": [
        "\n",
        "\n",
        "\n",
        "\n",
        "------------------------------------------------------------------------------------                                                       "
      ],
      "metadata": {
        "id": "x7DCAAtU5ToY"
      }
    },
    {
      "cell_type": "markdown",
      "source": [
        "## **Task 2**\n",
        "### **Converting into spectrogram and giving spectrogram data as input**\n",
        "- Using Librosa library to convert raw data to spectogram. Spectogram converts time domain data to frequency domain data(output will be two-dimensional representation of data)\n",
        "\n",
        "---\n",
        "\n",
        "\n",
        "\n",
        "\n",
        "\n",
        "*   Train data: X_train_spectrogram and y_train\n",
        "*   Test data: X_test_spectrogram and y_test\n",
        "\n",
        "1.   Creating an LSTM network which takes \"X_train_spectrogram\" as input and returns output at every time step.\n",
        "2. Average the output of every time step and give this to the Dense layer of any size.\n",
        "3. Give the above output to Dense layer of size 10(output layer) and train the network with sparse categorical cross entropy.\n",
        "\n",
        "\n"
      ],
      "metadata": {
        "id": "_K76gLXGy44P"
      }
    },
    {
      "cell_type": "code",
      "metadata": {
        "id": "nb5AGzTjaNpS"
      },
      "source": [
        "def convert_to_spectrogram(raw_data):\n",
        "    '''converting to spectrogram'''\n",
        "    spectrum = librosa.feature.melspectrogram(y=raw_data, sr=sample_rate, n_mels=64)\n",
        "    logmel_spectrum = librosa.power_to_db(S=spectrum, ref=np.max)\n",
        "    return logmel_spectrum"
      ],
      "execution_count": 26,
      "outputs": []
    },
    {
      "cell_type": "code",
      "metadata": {
        "id": "B__rN4RjaNpc"
      },
      "source": [
        "## using convert_to_spectrogram and convert every raw sequence in X_train_pad_seq and X_test_pad-seq.\n",
        "\n",
        "tr_spec,te_spec = list(), list()\n",
        "for pad_seq in X_train_pad_seq:\n",
        "    tr_spec.append(convert_to_spectrogram(pad_seq))\n",
        "\n",
        "for pad_seq in X_test_pad_seq:\n",
        "    te_spec.append(convert_to_spectrogram(pad_seq))\n",
        "\n",
        "X_train_spectrogram, X_test_spectrogram = np.array(tr_spec), np.array(te_spec)"
      ],
      "execution_count": 27,
      "outputs": []
    },
    {
      "cell_type": "code",
      "source": [
        "\n",
        "print(X_train_spectrogram.shape)\n",
        "print(Y_tr.shape)\n",
        "print(X_test_spectrogram.shape)\n",
        "print(Y_te.shape)"
      ],
      "metadata": {
        "colab": {
          "base_uri": "https://localhost:8080/"
        },
        "id": "_UB-0vY2nZlU",
        "outputId": "9a8fa1b9-df47-44b2-b090-55c15d507a8d"
      },
      "execution_count": 45,
      "outputs": [
        {
          "output_type": "stream",
          "name": "stdout",
          "text": [
            "(1400, 64, 35)\n",
            "(1400,)\n",
            "(600, 64, 35)\n",
            "(600,)\n"
          ]
        }
      ]
    },
    {
      "cell_type": "markdown",
      "source": [
        "## Defining Model_2 Architecture"
      ],
      "metadata": {
        "id": "0jrrzfuLxZo_"
      }
    },
    {
      "cell_type": "code",
      "metadata": {
        "id": "VtMsbGs3aNp_"
      },
      "source": [
        "## Clearing Tensorflow backend\n",
        "tf.keras.backend.clear_session()\n",
        "rawinput_2 = Input(shape = (64,35, ))\n",
        "layer_1 = LSTM(128, return_sequences=True)(rawinput_2)\n",
        "layer_1_mean = tf.math.reduce_mean(layer_1, axis = -1) # Averaging the output at every time step\n",
        "layer_2 = Dense(128,activation = 'relu', kernel_initializer = 'he_normal')(layer_1_mean) # passing averaged output to dense layer\n",
        "output = Dense(10, activation = 'softmax', kernel_initializer = 'he_normal' )(layer_2)\n",
        "\n",
        "model_2 = Model(inputs = rawinput_2, outputs = output)"
      ],
      "execution_count": 29,
      "outputs": []
    },
    {
      "cell_type": "code",
      "source": [
        "#plotting the MODEL_2 arch\n",
        "tf.keras.utils.plot_model(model_2, show_shapes = True, to_file =\"model_2.png\")"
      ],
      "metadata": {
        "colab": {
          "base_uri": "https://localhost:8080/",
          "height": 533
        },
        "id": "5FBnSbpFw0CT",
        "outputId": "da3178dc-7172-43f7-b523-c30dd5983a46"
      },
      "execution_count": 30,
      "outputs": [
        {
          "output_type": "execute_result",
          "data": {
            "image/png": "[encoded data removed]",
            "text/plain": [
              "<IPython.core.display.Image object>"
            ]
          },
          "metadata": {},
          "execution_count": 30
        }
      ]
    },
    {
      "cell_type": "code",
      "source": [
        "model_2.summary()"
      ],
      "metadata": {
        "colab": {
          "base_uri": "https://localhost:8080/"
        },
        "id": "oCWh80gbjH0p",
        "outputId": "8638ed1c-93ec-4587-9914-c9d5c1e61795"
      },
      "execution_count": 31,
      "outputs": [
        {
          "output_type": "stream",
          "name": "stdout",
          "text": [
            "Model: \"model\"\n",
            "_________________________________________________________________\n",
            " Layer (type)                Output Shape              Param #   \n",
            "=================================================================\n",
            " input_1 (InputLayer)        [(None, 64, 35)]          0         \n",
            "                                                                 \n",
            " lstm (LSTM)                 (None, 64, 128)           83968     \n",
            "                                                                 \n",
            " tf.math.reduce_mean (TFOpLa  (None, 64)               0         \n",
            " mbda)                                                           \n",
            "                                                                 \n",
            " dense (Dense)               (None, 128)               8320      \n",
            "                                                                 \n",
            " dense_1 (Dense)             (None, 10)                1290      \n",
            "                                                                 \n",
            "=================================================================\n",
            "Total params: 93,578\n",
            "Trainable params: 93,578\n",
            "Non-trainable params: 0\n",
            "_________________________________________________________________\n"
          ]
        }
      ]
    },
    {
      "cell_type": "markdown",
      "source": [
        "## Defining Callbacks like\n",
        "\n",
        "\n",
        "1.   Earlystopping - stop training if performance drops below the predefined patience level.\n",
        "2.   Tensorboard - Plotting train and test evaluation metrics. Moreover weights.\n",
        "3.  CustomF1Score class to find F1Score.\n",
        "\n",
        "\n"
      ],
      "metadata": {
        "id": "E4qnvNiVxk2J"
      }
    },
    {
      "cell_type": "code",
      "source": [
        "earlystop = EarlyStopping(monitor = \"val_loss\", min_delta = 1e-5,patience = 5, verbose = 1)\n",
        "\n",
        "logdir = os.path.join(\"logs\",datetime.datetime.now().strftime(\"%Y%m%d-%H%M%S\"))\n",
        "tensorboard_callback = tf.keras.callbacks.TensorBoard(log_dir = logdir, histogram_freq = 1, write_graph = True)\n",
        "\n",
        "f1score_cb = CustomF1_Score((X_train_spectrogram,Y_tr),(X_test_spectrogram,Y_te))\n",
        "\n",
        "callback_list = [earlystop, tensorboard_callback, f1score_cb]"
      ],
      "metadata": {
        "id": "d7_KkL4Zoy-C"
      },
      "execution_count": 47,
      "outputs": []
    },
    {
      "cell_type": "markdown",
      "source": [
        "## Compiling and fitting the Model using ADAM optimizer and SparseCategoricalCrossentropy as loss.\n"
      ],
      "metadata": {
        "id": "h5t8C9kMyPwL"
      }
    },
    {
      "cell_type": "code",
      "source": [
        "model_2.compile(optimizer='adam',loss='sparse_categorical_crossentropy')\n",
        "\n",
        "\n",
        "model_2.fit(X_train_spectrogram,Y_tr,validation_data =(X_test_spectrogram,Y_te),batch_size= 16,epochs=10,callbacks = callback_list)"
      ],
      "metadata": {
        "colab": {
          "base_uri": "https://localhost:8080/"
        },
        "id": "9FfnjvtEjOnb",
        "outputId": "e97430ef-4a2a-473c-ea22-a2e9b08dea46"
      },
      "execution_count": 48,
      "outputs": [
        {
          "output_type": "stream",
          "name": "stdout",
          "text": [
            "Epoch 1/10\n",
            " 1/88 [..............................] - ETA: 3:03 - loss: 0.5668"
          ]
        },
        {
          "output_type": "stream",
          "name": "stderr",
          "text": [
            "WARNING:tensorflow:Callback method `on_train_batch_end` is slow compared to the batch time (batch time: 0.0051s vs `on_train_batch_end` time: 0.0102s). Check your callbacks.\n"
          ]
        },
        {
          "output_type": "stream",
          "name": "stdout",
          "text": [
            "44/44 [==============================] - 0s 2ms/step\n",
            "19/19 [==============================] - 0s 2ms/step\n",
            "88/88 [==============================] - 4s 18ms/step - loss: 0.7158 - val_loss: 0.7393 - Train_F1_Score: 0.6443 - Val_F1_Score: 0.6250\n",
            "Epoch 2/10\n",
            "44/44 [==============================] - 0s 2ms/step\n",
            "19/19 [==============================] - 0s 2ms/step\n",
            "88/88 [==============================] - 1s 10ms/step - loss: 0.6708 - val_loss: 0.6970 - Train_F1_Score: 0.6707 - Val_F1_Score: 0.6417\n",
            "Epoch 3/10\n",
            "44/44 [==============================] - 0s 2ms/step\n",
            "19/19 [==============================] - 0s 2ms/step\n",
            "88/88 [==============================] - 1s 10ms/step - loss: 0.6270 - val_loss: 0.6656 - Train_F1_Score: 0.6993 - Val_F1_Score: 0.6767\n",
            "Epoch 4/10\n",
            "44/44 [==============================] - 0s 2ms/step\n",
            "19/19 [==============================] - 0s 2ms/step\n",
            "88/88 [==============================] - 1s 10ms/step - loss: 0.5869 - val_loss: 0.6473 - Train_F1_Score: 0.7121 - Val_F1_Score: 0.7050\n",
            "Epoch 5/10\n",
            "44/44 [==============================] - 0s 2ms/step\n",
            "19/19 [==============================] - 0s 2ms/step\n",
            "88/88 [==============================] - 1s 10ms/step - loss: 0.5845 - val_loss: 0.6195 - Train_F1_Score: 0.7493 - Val_F1_Score: 0.7233\n",
            "Epoch 6/10\n",
            "44/44 [==============================] - 0s 2ms/step\n",
            "19/19 [==============================] - 0s 2ms/step\n",
            "88/88 [==============================] - 1s 11ms/step - loss: 0.5423 - val_loss: 0.6095 - Train_F1_Score: 0.7557 - Val_F1_Score: 0.7200\n",
            "Epoch 7/10\n",
            "44/44 [==============================] - 0s 2ms/step\n",
            "19/19 [==============================] - 0s 2ms/step\n",
            "88/88 [==============================] - 1s 10ms/step - loss: 0.5316 - val_loss: 0.5677 - Train_F1_Score: 0.7836 - Val_F1_Score: 0.7567\n",
            "Epoch 8/10\n",
            "44/44 [==============================] - 0s 2ms/step\n",
            "19/19 [==============================] - 0s 2ms/step\n",
            "88/88 [==============================] - 1s 9ms/step - loss: 0.5088 - val_loss: 0.5811 - Train_F1_Score: 0.7757 - Val_F1_Score: 0.7567\n",
            "Epoch 9/10\n",
            "44/44 [==============================] - 0s 2ms/step\n",
            "19/19 [==============================] - 0s 2ms/step\n",
            "88/88 [==============================] - 1s 10ms/step - loss: 0.4910 - val_loss: 0.5154 - Train_F1_Score: 0.8100 - Val_F1_Score: 0.7933\n",
            "Epoch 10/10\n",
            "44/44 [==============================] - 0s 2ms/step\n",
            "19/19 [==============================] - 0s 2ms/step\n",
            "88/88 [==============================] - 1s 10ms/step - loss: 0.4728 - val_loss: 0.5162 - Train_F1_Score: 0.8171 - Val_F1_Score: 0.8033\n"
          ]
        },
        {
          "output_type": "execute_result",
          "data": {
            "text/plain": [
              "<keras.callbacks.History at 0x7ca7b008ba00>"
            ]
          },
          "metadata": {},
          "execution_count": 48
        }
      ]
    },
    {
      "cell_type": "code",
      "source": [
        "\n",
        "%tensorboard --logdir $logdir"
      ],
      "metadata": {
        "colab": {
          "base_uri": "https://localhost:8080/",
          "height": 225
        },
        "id": "HKNrRW8u7_7_",
        "outputId": "f4edb77a-c48f-4661-c382-59d8b02533e6"
      },
      "execution_count": 51,
      "outputs": [
        {
          "output_type": "display_data",
          "data": {
            "text/plain": [
              "ERROR: Failed to launch TensorBoard (exited with 1).\n",
              "Contents of stderr:\n",
              "2023-08-24 20:51:35.142117: W tensorflow/compiler/tf2tensorrt/utils/py_utils.cc:38] TF-TRT Warning: Could not find TensorRT\n",
              "\n",
              "NOTE: Using experimental fast data loading logic. To disable, pass\n",
              "    \"--load_fast=false\" and report issues on GitHub. More details:\n",
              "    https://github.com/tensorflow/tensorboard/issues/4784\n",
              "\n",
              "Address already in use\n",
              "Port 6006 is in use by another program. Either identify and stop that program, or start the server with a different port."
            ]
          },
          "metadata": {}
        }
      ]
    },
    {
      "cell_type": "code",
      "source": [
        "!rm -rf ./logs/"
      ],
      "metadata": {
        "id": "HvHePYhojg55"
      },
      "execution_count": 50,
      "outputs": []
    },
    {
      "cell_type": "markdown",
      "source": [
        "# TASK 3 - Data Augmentation with raw features\n",
        "\n",
        "\n",
        "\n",
        "*   As see from the results of above two models, the model performance did not improve much. That's because model was trained on less data. However, now  we will use data augmentation to increase the data points.\n",
        "\n",
        "**Data Augmentation techniques**\n",
        "1. Adding distribution noise to make model more robust.\n",
        "2. Time stretching - Time stretching either increases or decreases the length of the file. For time stretching we move the file 30% faster or slower\n",
        "3. Pitch shifting - pitch shifting moves the frequencies higher or lower. For pitch shifting we shift up or down one half-step.\n",
        "\n"
      ],
      "metadata": {
        "id": "SqXhevlXI7G4"
      }
    },
    {
      "cell_type": "code",
      "metadata": {
        "id": "jR4JSEDgaNqK"
      },
      "source": [
        "## generating augmented data.\n",
        "def generate_augmented_data(file_path):\n",
        "    augmented_data = list()\n",
        "    samples = load_wav(file_path,get_duration=False)\n",
        "    for time_value in [0.7, 1, 1.3]:\n",
        "        for pitch_value in [-1, 0, 1]:\n",
        "            #Adding Noise\n",
        "            noise_amp = 0.005*np.random.uniform()*np.amax(samples)\n",
        "            noise = samples.astype('float64') + noise_amp * np.random.normal(size=samples.shape[0])\n",
        "            # Time stretch\n",
        "            time_stretch_data = librosa.effects.time_stretch(noise,rate=time_value)\n",
        "            # Pitch shift\n",
        "            final_data = librosa.effects.pitch_shift(time_stretch_data, sr=sample_rate, n_steps=pitch_value)\n",
        "            augmented_data.append(final_data)\n",
        "    return augmented_data"
      ],
      "execution_count": 64,
      "outputs": []
    },
    {
      "cell_type": "markdown",
      "source": [
        "## Steps\n",
        "\n",
        "\n",
        "1.   Split the data.\n",
        "2.   Perform augmentation on train data using *generate_augmented_data* function and correspondingly augment train labels.\n",
        "3. Preprocess Test data using *load_wav* function.\n",
        "4. Perform padding and masking.\n",
        "5. Fit the model.\n",
        "\n"
      ],
      "metadata": {
        "id": "D3I2mrYILO11"
      }
    },
    {
      "cell_type": "code",
      "metadata": {
        "id": "LFo5SnTLO_sD"
      },
      "source": [
        "X_train, X_test, y_train, y_test = train_test_split(audio_df['path'],audio_df['label'],random_state=45,test_size=0.2,stratify=audio_df['label'])"
      ],
      "execution_count": 53,
      "outputs": []
    },
    {
      "cell_type": "code",
      "metadata": {
        "id": "wBwzbjOzO_sD",
        "colab": {
          "base_uri": "https://localhost:8080/"
        },
        "outputId": "5a179b0d-aac2-4567-cb46-871bc2096a82"
      },
      "source": [
        "train_augment, train_labels, test_augment = list(), list(), list()\n",
        "\n",
        "for tr,y in zip(X_train.values, y_train.values):\n",
        "  #augmenting train data\n",
        "  train_augment += generate_augmented_data(tr)\n",
        "  #augmenting train labels\n",
        "  train_labels += y*9\n",
        "\n",
        "for te in X_test.values:\n",
        "  # preprocessing test data\n",
        "  test_augment.append(load_wav(te,get_duration = False))\n",
        "\n",
        "augmented_tr_data = np.array(train_augment)\n",
        "augmented_test_data = np.array(test_augment)\n",
        "tr_labels = np.array(train_labels).astype('int')\n",
        "test_labels = np.array(y_test).astype('int')\n",
        "\n",
        "\n"
      ],
      "execution_count": 65,
      "outputs": [
        {
          "output_type": "stream",
          "name": "stderr",
          "text": [
            "<ipython-input-65-d1cca80493c2>:13: VisibleDeprecationWarning: Creating an ndarray from ragged nested sequences (which is a list-or-tuple of lists-or-tuples-or ndarrays with different lengths or shapes) is deprecated. If you meant to do this, you must specify 'dtype=object' when creating the ndarray.\n",
            "  augmented_tr_data = np.array(train_augment)\n",
            "<ipython-input-65-d1cca80493c2>:14: VisibleDeprecationWarning: Creating an ndarray from ragged nested sequences (which is a list-or-tuple of lists-or-tuples-or ndarrays with different lengths or shapes) is deprecated. If you meant to do this, you must specify 'dtype=object' when creating the ndarray.\n",
            "  augmented_test_data = np.array(test_augment)\n"
          ]
        }
      ]
    },
    {
      "cell_type": "code",
      "source": [
        "print(augmented_tr_data.shape)\n",
        "print(augmented_test_data.shape)\n",
        "print(tr_labels.shape)\n",
        "print(test_labels.shape)"
      ],
      "metadata": {
        "colab": {
          "base_uri": "https://localhost:8080/"
        },
        "id": "gXAgl2NmFgrD",
        "outputId": "dcef7421-c5bf-4483-c257-0bdc03e6e7a4"
      },
      "execution_count": 66,
      "outputs": [
        {
          "output_type": "stream",
          "name": "stdout",
          "text": [
            "(14400,)\n",
            "(400,)\n",
            "(14400,)\n",
            "(400,)\n"
          ]
        }
      ]
    },
    {
      "cell_type": "code",
      "metadata": {
        "id": "41vU8M1gO_sD"
      },
      "source": [
        "## Padding with Zero if length of sequence is less than 17640 else Truncate the number.\n",
        "max_length = 17640\n",
        "X_train_pad_seq = pad_sequences(augmented_tr_data,maxlen = max_length, padding = 'post',dtype = 'float32', truncating = 'post')\n",
        "X_test_pad_seq = pad_sequences(augmented_test_data,maxlen = max_length,padding = 'post',dtype = 'float32', truncating = 'post')\n",
        "## Creating masking vector X_train_mask, X_test_mask\n",
        "X_train_mask = X_train_pad_seq != 0\n",
        "X_test_mask = X_test_pad_seq != 0"
      ],
      "execution_count": 67,
      "outputs": []
    },
    {
      "cell_type": "markdown",
      "source": [
        "## Defining Callbacks"
      ],
      "metadata": {
        "id": "GXBfjSj5Mz75"
      }
    },
    {
      "cell_type": "code",
      "source": [
        "earlystop = EarlyStopping(monitor = \"val_loss\", min_delta = 1e-5,patience = 5, verbose = 1)\n",
        "\n",
        "logdir = os.path.join(\"logs\",datetime.datetime.now().strftime(\"%Y%m%d-%H%M%S\"))\n",
        "tensorboard_callback = tf.keras.callbacks.TensorBoard(log_dir = logdir, histogram_freq = 1, write_graph = True)\n",
        "\n",
        "f1score_cb = CustomF1_Score(([X_train_pad_seq,X_train_mask],tr_labels),([X_test_pad_seq,X_test_mask],test_labels))\n",
        "\n",
        "callback_list = [earlystop, tensorboard_callback, f1score_cb]"
      ],
      "metadata": {
        "id": "3XqolXdvEm2G"
      },
      "execution_count": 68,
      "outputs": []
    },
    {
      "cell_type": "markdown",
      "source": [
        "## Defining Model3 Architecture"
      ],
      "metadata": {
        "id": "dGQ2QuQhM4EQ"
      }
    },
    {
      "cell_type": "code",
      "source": [
        "rawinput = Input(shape = (17640,1))\n",
        "mask_input = Input(shape = 17640, dtype = 'bool')\n",
        "layer_1 = LSTM(32)(rawinput, mask = mask_input)\n",
        "layer_2 = Dense(32,activation = 'relu', kernel_initializer = 'he_normal')(layer_1)\n",
        "output = Dense(10, activation = 'softmax', kernel_initializer = 'he_normal' )(layer_2)\n",
        "\n",
        "model3 = Model(inputs = [rawinput,mask_input], outputs = output)"
      ],
      "metadata": {
        "id": "aWplsAoAE5Qq"
      },
      "execution_count": 69,
      "outputs": []
    },
    {
      "cell_type": "code",
      "source": [
        "tf.keras.utils.plot_model(model3, show_shapes = True, to_file =\"model_3.png\")"
      ],
      "metadata": {
        "colab": {
          "base_uri": "https://localhost:8080/",
          "height": 422
        },
        "id": "gcGaX5fshbOQ",
        "outputId": "305a11b0-12a0-49bd-cfa1-dff758713eb9"
      },
      "execution_count": 70,
      "outputs": [
        {
          "output_type": "execute_result",
          "data": {
            "image/png": "[encoded data removed]",
            "text/plain": [
              "<IPython.core.display.Image object>"
            ]
          },
          "metadata": {},
          "execution_count": 70
        }
      ]
    },
    {
      "cell_type": "code",
      "source": [
        "model3.summary()"
      ],
      "metadata": {
        "id": "nC91zuYxE628",
        "colab": {
          "base_uri": "https://localhost:8080/"
        },
        "outputId": "fd26f8e7-3006-47a5-da0b-9e4db657f100"
      },
      "execution_count": 71,
      "outputs": [
        {
          "output_type": "stream",
          "name": "stdout",
          "text": [
            "Model: \"model_1\"\n",
            "__________________________________________________________________________________________________\n",
            " Layer (type)                   Output Shape         Param #     Connected to                     \n",
            "==================================================================================================\n",
            " input_2 (InputLayer)           [(None, 17640, 1)]   0           []                               \n",
            "                                                                                                  \n",
            " input_3 (InputLayer)           [(None, 17640)]      0           []                               \n",
            "                                                                                                  \n",
            " lstm_1 (LSTM)                  (None, 32)           4352        ['input_2[0][0]',                \n",
            "                                                                  'input_3[0][0]']                \n",
            "                                                                                                  \n",
            " dense_2 (Dense)                (None, 32)           1056        ['lstm_1[0][0]']                 \n",
            "                                                                                                  \n",
            " dense_3 (Dense)                (None, 10)           330         ['dense_2[0][0]']                \n",
            "                                                                                                  \n",
            "==================================================================================================\n",
            "Total params: 5,738\n",
            "Trainable params: 5,738\n",
            "Non-trainable params: 0\n",
            "__________________________________________________________________________________________________\n"
          ]
        }
      ]
    },
    {
      "cell_type": "markdown",
      "source": [
        "## Fitting the Model"
      ],
      "metadata": {
        "id": "KCJx6e-ZM-GU"
      }
    },
    {
      "cell_type": "code",
      "source": [
        "model3.compile(optimizer='adam',loss='sparse_categorical_crossentropy')\n",
        "\n",
        "model3.fit([X_train_pad_seq,X_train_mask],tr_labels,validation_data =([X_test_pad_seq,X_test_mask],test_labels),batch_size= 32,epochs=2,callbacks = callback_list)"
      ],
      "metadata": {
        "id": "Aya8cK30FEKO",
        "colab": {
          "base_uri": "https://localhost:8080/"
        },
        "outputId": "44366fb9-0f0f-4425-a2b5-16f675e0e2fc"
      },
      "execution_count": 72,
      "outputs": [
        {
          "output_type": "stream",
          "name": "stdout",
          "text": [
            "Epoch 1/2\n",
            "450/450 [==============================] - 65s 143ms/step\n",
            "13/13 [==============================] - 3s 145ms/step\n",
            "450/450 [==============================] - 232s 508ms/step - loss: 2.3030 - val_loss: 2.3026 - Train_F1_Score: 0.1000 - Val_F1_Score: 0.1000\n",
            "Epoch 2/2\n",
            "450/450 [==============================] - 64s 143ms/step\n",
            "13/13 [==============================] - 2s 140ms/step\n",
            "450/450 [==============================] - 224s 497ms/step - loss: 2.3029 - val_loss: 2.3026 - Train_F1_Score: 0.1000 - Val_F1_Score: 0.1000\n"
          ]
        },
        {
          "output_type": "execute_result",
          "data": {
            "text/plain": [
              "<keras.callbacks.History at 0x7ca70ab9e8c0>"
            ]
          },
          "metadata": {},
          "execution_count": 72
        }
      ]
    },
    {
      "cell_type": "code",
      "source": [
        "model3.fit([X_train_pad_seq,X_train_mask],tr_labels,validation_data =([X_test_pad_seq,X_test_mask],test_labels),batch_size= 32,epochs=3,callbacks = callback_list)"
      ],
      "metadata": {
        "id": "8UNL_TnrtPMT"
      },
      "execution_count": null,
      "outputs": []
    },
    {
      "cell_type": "code",
      "source": [
        "%tensorboard --logdir $logdir"
      ],
      "metadata": {
        "colab": {
          "base_uri": "https://localhost:8080/",
          "height": 225
        },
        "id": "hSgK0bZEhk81",
        "outputId": "d73249cc-919d-4204-f944-867fb86c20f7"
      },
      "execution_count": 73,
      "outputs": [
        {
          "output_type": "display_data",
          "data": {
            "text/plain": [
              "ERROR: Failed to launch TensorBoard (exited with 1).\n",
              "Contents of stderr:\n",
              "2023-08-24 21:21:49.845856: W tensorflow/compiler/tf2tensorrt/utils/py_utils.cc:38] TF-TRT Warning: Could not find TensorRT\n",
              "\n",
              "NOTE: Using experimental fast data loading logic. To disable, pass\n",
              "    \"--load_fast=false\" and report issues on GitHub. More details:\n",
              "    https://github.com/tensorflow/tensorboard/issues/4784\n",
              "\n",
              "Address already in use\n",
              "Port 6006 is in use by another program. Either identify and stop that program, or start the server with a different port."
            ]
          },
          "metadata": {}
        }
      ]
    },
    {
      "cell_type": "code",
      "source": [
        "!rm -rf ./logs/"
      ],
      "metadata": {
        "id": "Y5aHAlPIbSej"
      },
      "execution_count": 74,
      "outputs": []
    },
    {
      "cell_type": "markdown",
      "source": [
        "# Task 4 - Data augmentation with spectogram data\n",
        "\n",
        "Steps :\n",
        "\n",
        "\n",
        "1.  Using convert_to_spectrogram and convert the padded data from train and test data to spectrogram data\n",
        "2.  Fit the data.\n",
        "\n"
      ],
      "metadata": {
        "id": "DaFEZK5oNIUE"
      }
    },
    {
      "cell_type": "code",
      "metadata": {
        "id": "QpVMCEW3O_sE"
      },
      "source": [
        "aug_tr_spec, aug_test_spec = list(), list()\n",
        "\n",
        "## Convert to spectrogram on train data\n",
        "for pad_seq in X_train_pad_seq:\n",
        "    aug_tr_spec.append(convert_to_spectrogram(pad_seq))\n",
        "\n",
        "## Convert to spectogram on test data\n",
        "for pad_seq in X_test_pad_seq:\n",
        "    aug_test_spec.append(convert_to_spectrogram(pad_seq))\n",
        "\n",
        "aug_tr_spec_data = np.array(aug_tr_spec)\n",
        "aug_test_spec_data = np.array(aug_test_spec)\n"
      ],
      "execution_count": 75,
      "outputs": []
    },
    {
      "cell_type": "code",
      "source": [
        "print(aug_tr_spec_data.shape)\n",
        "print(aug_test_spec_data.shape)\n",
        "print(tr_labels.shape)\n",
        "print(test_labels.shape)"
      ],
      "metadata": {
        "colab": {
          "base_uri": "https://localhost:8080/"
        },
        "id": "i0OWM_fKGT_q",
        "outputId": "cf1a9378-b250-4466-a10c-bebe050cd5f6"
      },
      "execution_count": 76,
      "outputs": [
        {
          "output_type": "stream",
          "name": "stdout",
          "text": [
            "(14400, 64, 35)\n",
            "(400, 64, 35)\n",
            "(14400,)\n",
            "(400,)\n"
          ]
        }
      ]
    },
    {
      "cell_type": "markdown",
      "source": [
        "## Defining Model 4 Arch"
      ],
      "metadata": {
        "id": "c2yOoStVIHm1"
      }
    },
    {
      "cell_type": "code",
      "metadata": {
        "id": "40RMwgJ6O_sE"
      },
      "source": [
        "tf.keras.backend.clear_session()\n",
        "rawinput_4 = Input(shape = (64,35, ))\n",
        "layer_1 = LSTM(128, return_sequences=True)(rawinput_4)\n",
        "layer_1_mean = tf.math.reduce_mean(layer_1, axis = -1)\n",
        "layer_2 = Dense(128,activation = 'relu', kernel_initializer = 'he_normal')(layer_1_mean)\n",
        "output = Dense(10, activation = 'softmax', kernel_initializer = 'glorot_normal' )(layer_2)\n",
        "\n",
        "model_4 = Model(inputs = rawinput_4, outputs = output)"
      ],
      "execution_count": 77,
      "outputs": []
    },
    {
      "cell_type": "code",
      "source": [
        "tf.keras.utils.plot_model(model_4, show_shapes = True, to_file =\"model_4.png\")"
      ],
      "metadata": {
        "colab": {
          "base_uri": "https://localhost:8080/",
          "height": 533
        },
        "id": "9gwfnTdEGxIl",
        "outputId": "c4d10a68-4239-45f8-ec5f-15fa5e761193"
      },
      "execution_count": 78,
      "outputs": [
        {
          "output_type": "execute_result",
          "data": {
            "image/png": "[encoded data removed]",
            "text/plain": [
              "<IPython.core.display.Image object>"
            ]
          },
          "metadata": {},
          "execution_count": 78
        }
      ]
    },
    {
      "cell_type": "code",
      "source": [
        "model_4.summary()\n"
      ],
      "metadata": {
        "colab": {
          "base_uri": "https://localhost:8080/"
        },
        "id": "2l7Y2x8lGs38",
        "outputId": "f491a8f2-eb88-4236-95ed-5bbb9b4bf57b"
      },
      "execution_count": 79,
      "outputs": [
        {
          "output_type": "stream",
          "name": "stdout",
          "text": [
            "Model: \"model\"\n",
            "_________________________________________________________________\n",
            " Layer (type)                Output Shape              Param #   \n",
            "=================================================================\n",
            " input_1 (InputLayer)        [(None, 64, 35)]          0         \n",
            "                                                                 \n",
            " lstm (LSTM)                 (None, 64, 128)           83968     \n",
            "                                                                 \n",
            " tf.math.reduce_mean (TFOpLa  (None, 64)               0         \n",
            " mbda)                                                           \n",
            "                                                                 \n",
            " dense (Dense)               (None, 128)               8320      \n",
            "                                                                 \n",
            " dense_1 (Dense)             (None, 10)                1290      \n",
            "                                                                 \n",
            "=================================================================\n",
            "Total params: 93,578\n",
            "Trainable params: 93,578\n",
            "Non-trainable params: 0\n",
            "_________________________________________________________________\n"
          ]
        }
      ]
    },
    {
      "cell_type": "markdown",
      "source": [
        "## Callbacks for Model_4"
      ],
      "metadata": {
        "id": "QMdCWHdCHzUb"
      }
    },
    {
      "cell_type": "code",
      "source": [
        "earlystop = EarlyStopping(monitor = \"val_loss\", min_delta = 1e-5,patience = 5, verbose = 1)\n",
        "\n",
        "logdir = os.path.join(\"logs\",datetime.datetime.now().strftime(\"%Y%m%d-%H%M%S\"))\n",
        "tensorboard_callback = tf.keras.callbacks.TensorBoard(log_dir = logdir, histogram_freq = 1, write_graph = False)\n",
        "\n",
        "f1score_cb = CustomF1_Score((aug_tr_spec_data,tr_labels),(aug_test_spec_data,test_labels))\n",
        "\n",
        "callback_list = [earlystop, tensorboard_callback, f1score_cb]"
      ],
      "metadata": {
        "id": "ksZr_JuaHCCi"
      },
      "execution_count": 80,
      "outputs": []
    },
    {
      "cell_type": "markdown",
      "source": [
        "## Model fitting"
      ],
      "metadata": {
        "id": "nQQyEU7jIA3e"
      }
    },
    {
      "cell_type": "code",
      "source": [
        "model_4.compile(optimizer='adam',loss='sparse_categorical_crossentropy')\n",
        "\n",
        "model_4.fit(aug_tr_spec_data,tr_labels,validation_data =(aug_test_spec_data,test_labels),batch_size= 64,epochs=10,callbacks = callback_list)"
      ],
      "metadata": {
        "colab": {
          "base_uri": "https://localhost:8080/"
        },
        "id": "5_T_h2oVHw5H",
        "outputId": "f9670624-e8a4-419b-9040-027d0e990746"
      },
      "execution_count": 81,
      "outputs": [
        {
          "output_type": "stream",
          "name": "stdout",
          "text": [
            "Epoch 1/10\n",
            "450/450 [==============================] - 1s 2ms/step\n",
            "13/13 [==============================] - 0s 2ms/step\n",
            "225/225 [==============================] - 6s 17ms/step - loss: 1.5311 - val_loss: 0.9132 - Train_F1_Score: 0.4547 - Val_F1_Score: 0.4475\n",
            "Epoch 2/10\n",
            "450/450 [==============================] - 1s 2ms/step\n",
            "13/13 [==============================] - 0s 2ms/step\n",
            "225/225 [==============================] - 3s 12ms/step - loss: 0.7560 - val_loss: 0.5548 - Train_F1_Score: 0.7249 - Val_F1_Score: 0.7675\n",
            "Epoch 3/10\n",
            "450/450 [==============================] - 1s 2ms/step\n",
            "13/13 [==============================] - 0s 2ms/step\n",
            "225/225 [==============================] - 3s 11ms/step - loss: 0.5604 - val_loss: 0.4124 - Train_F1_Score: 0.8058 - Val_F1_Score: 0.8525\n",
            "Epoch 4/10\n",
            "450/450 [==============================] - 1s 2ms/step\n",
            "13/13 [==============================] - 0s 2ms/step\n",
            "225/225 [==============================] - 3s 12ms/step - loss: 0.4661 - val_loss: 0.3904 - Train_F1_Score: 0.8155 - Val_F1_Score: 0.8625\n",
            "Epoch 5/10\n",
            "450/450 [==============================] - 1s 2ms/step\n",
            "13/13 [==============================] - 0s 2ms/step\n",
            "225/225 [==============================] - 3s 12ms/step - loss: 0.4305 - val_loss: 0.3619 - Train_F1_Score: 0.8337 - Val_F1_Score: 0.8625\n",
            "Epoch 6/10\n",
            "450/450 [==============================] - 1s 2ms/step\n",
            "13/13 [==============================] - 0s 2ms/step\n",
            "225/225 [==============================] - 3s 12ms/step - loss: 0.3795 - val_loss: 0.2877 - Train_F1_Score: 0.8635 - Val_F1_Score: 0.8975\n",
            "Epoch 7/10\n",
            "450/450 [==============================] - 1s 2ms/step\n",
            "13/13 [==============================] - 0s 2ms/step\n",
            "225/225 [==============================] - 3s 12ms/step - loss: 0.3617 - val_loss: 0.3066 - Train_F1_Score: 0.8551 - Val_F1_Score: 0.8850\n",
            "Epoch 8/10\n",
            "450/450 [==============================] - 1s 2ms/step\n",
            "13/13 [==============================] - 0s 2ms/step\n",
            "225/225 [==============================] - 3s 12ms/step - loss: 0.3383 - val_loss: 0.2859 - Train_F1_Score: 0.8698 - Val_F1_Score: 0.8950\n",
            "Epoch 9/10\n",
            "450/450 [==============================] - 1s 2ms/step\n",
            "13/13 [==============================] - 0s 2ms/step\n",
            "225/225 [==============================] - 3s 12ms/step - loss: 0.3237 - val_loss: 0.2387 - Train_F1_Score: 0.8829 - Val_F1_Score: 0.9200\n",
            "Epoch 10/10\n",
            "450/450 [==============================] - 1s 2ms/step\n",
            "13/13 [==============================] - 0s 2ms/step\n",
            "225/225 [==============================] - 3s 11ms/step - loss: 0.3156 - val_loss: 0.2346 - Train_F1_Score: 0.8887 - Val_F1_Score: 0.9250\n"
          ]
        },
        {
          "output_type": "execute_result",
          "data": {
            "text/plain": [
              "<keras.callbacks.History at 0x7ca720201ff0>"
            ]
          },
          "metadata": {},
          "execution_count": 81
        }
      ]
    },
    {
      "cell_type": "code",
      "source": [
        "%tensorboard --logdir $logdir"
      ],
      "metadata": {
        "colab": {
          "base_uri": "https://localhost:8080/",
          "height": 225
        },
        "id": "FbztgMPON5xg",
        "outputId": "8296902c-bfd6-4838-fad0-4864036f3b05"
      },
      "execution_count": 82,
      "outputs": [
        {
          "output_type": "display_data",
          "data": {
            "text/plain": [
              "ERROR: Failed to launch TensorBoard (exited with 1).\n",
              "Contents of stderr:\n",
              "2023-08-24 21:27:37.891923: W tensorflow/compiler/tf2tensorrt/utils/py_utils.cc:38] TF-TRT Warning: Could not find TensorRT\n",
              "\n",
              "NOTE: Using experimental fast data loading logic. To disable, pass\n",
              "    \"--load_fast=false\" and report issues on GitHub. More details:\n",
              "    https://github.com/tensorflow/tensorboard/issues/4784\n",
              "\n",
              "Address already in use\n",
              "Port 6006 is in use by another program. Either identify and stop that program, or start the server with a different port."
            ]
          },
          "metadata": {}
        }
      ]
    }
  ]
}